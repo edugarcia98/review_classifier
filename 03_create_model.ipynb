{
 "cells": [
  {
   "cell_type": "code",
   "execution_count": 30,
   "id": "08918783",
   "metadata": {},
   "outputs": [
    {
     "name": "stderr",
     "output_type": "stream",
     "text": [
      "[nltk_data] Downloading package stopwords to\n",
      "[nltk_data]     C:\\Users\\T-GAMER\\AppData\\Roaming\\nltk_data...\n",
      "[nltk_data]   Package stopwords is already up-to-date!\n",
      "[nltk_data] Downloading package rslp to\n",
      "[nltk_data]     C:\\Users\\T-GAMER\\AppData\\Roaming\\nltk_data...\n",
      "[nltk_data]   Package rslp is already up-to-date!\n"
     ]
    }
   ],
   "source": [
    "import matplotlib.pyplot as plt\n",
    "import nltk\n",
    "import pandas as pd\n",
    "import pickle\n",
    "import seaborn as sns\n",
    "\n",
    "from keras.layers import (\n",
    "    Conv1D,\n",
    "    Dense,\n",
    "    Embedding,\n",
    "    GlobalMaxPooling1D,\n",
    "    TextVectorization,\n",
    ")\n",
    "from keras.losses import BinaryCrossentropy\n",
    "from keras.models import Sequential\n",
    "from keras.optimizers import Adam\n",
    "from keras.preprocessing.text import Tokenizer\n",
    "from keras_preprocessing.sequence import pad_sequences\n",
    "from nltk.corpus import stopwords\n",
    "from nltk.stem import RSLPStemmer\n",
    "from sklearn.metrics import classification_report, confusion_matrix\n",
    "from sklearn.model_selection import train_test_split\n",
    "from string import digits, punctuation\n",
    "from tqdm import tqdm\n",
    "from unidecode import unidecode\n",
    "\n",
    "nltk.download(\"stopwords\")\n",
    "nltk.download('rslp')\n",
    "tqdm.pandas()"
   ]
  },
  {
   "cell_type": "markdown",
   "id": "40431a5d",
   "metadata": {},
   "source": [
    "### Carregando dados"
   ]
  },
  {
   "cell_type": "markdown",
   "id": "726211e5",
   "metadata": {},
   "source": [
    "Foram carregados reviews de Smart TVs e Smartphones do Mercado Livre"
   ]
  },
  {
   "cell_type": "code",
   "execution_count": 2,
   "id": "b700fd0f",
   "metadata": {},
   "outputs": [],
   "source": [
    "df_reviews = pd.read_csv(\"data/product_reviews.csv\")"
   ]
  },
  {
   "cell_type": "code",
   "execution_count": 3,
   "id": "427030c8",
   "metadata": {},
   "outputs": [
    {
     "name": "stdout",
     "output_type": "stream",
     "text": [
      "<class 'pandas.core.frame.DataFrame'>\n",
      "RangeIndex: 74226 entries, 0 to 74225\n",
      "Data columns (total 12 columns):\n",
      " #   Column              Non-Null Count  Dtype \n",
      "---  ------              --------------  ----- \n",
      " 0   product_id          74226 non-null  object\n",
      " 1   product_name        74226 non-null  object\n",
      " 2   product_brand       74226 non-null  object\n",
      " 3   product_line        74226 non-null  object\n",
      " 4   review_date         74226 non-null  object\n",
      " 5   review_text         74226 non-null  object\n",
      " 6   review_rate         74226 non-null  int64 \n",
      " 7   review_likes        74226 non-null  int64 \n",
      " 8   review_dislikes     74226 non-null  int64 \n",
      " 9   review_relevance    74226 non-null  int64 \n",
      " 10  client_buying_date  74226 non-null  object\n",
      " 11  product_type        74226 non-null  object\n",
      "dtypes: int64(4), object(8)\n",
      "memory usage: 6.8+ MB\n"
     ]
    }
   ],
   "source": [
    "df_reviews.info()"
   ]
  },
  {
   "cell_type": "markdown",
   "id": "e0addd32",
   "metadata": {},
   "source": [
    "### Transformando dados"
   ]
  },
  {
   "cell_type": "markdown",
   "id": "fe849c53",
   "metadata": {},
   "source": [
    "Foi aplicada a mediana da quantidade de palavras por registros de review.\n",
    "\n",
    "Com base nisso, os reviews que possuíam quantidades de palavras abaixo da mediana foram removidos\n",
    "\n",
    "Também foram removidos reviews com nota 3, pois poderiam impactar negativamente\n",
    "na geração do modelo, pelo fato de não sabermos como o mesmo classificaria, confundindo a IA"
   ]
  },
  {
   "cell_type": "code",
   "execution_count": 4,
   "id": "f789d7f5",
   "metadata": {},
   "outputs": [],
   "source": [
    "review_median = int(df_reviews[\"review_text\"].str.split().apply(len).median())\n",
    "df_reviews = df_reviews[df_reviews[\"review_text\"].str.split().apply(len) >= review_median]\n",
    "df_reviews.drop(df_reviews[df_reviews[\"review_rate\"] == 3].index, inplace=True)\n",
    "\n",
    "df_reviews.reset_index(drop=True, inplace=True)"
   ]
  },
  {
   "cell_type": "markdown",
   "id": "8a19b776",
   "metadata": {},
   "source": [
    "Foi definida a classe de cada registro. Para isso, utilizou-se o seguinte critério:\n",
    "- Reviews com notas 1 e 2 foram classificados como ruins\n",
    "- Reviews com notas 4 e 5 foram classificados como bons\n",
    "\n",
    "Também foram removidos do modelo alguns campos, pois não seriam utilizados"
   ]
  },
  {
   "cell_type": "code",
   "execution_count": 5,
   "id": "375b03f9",
   "metadata": {},
   "outputs": [
    {
     "data": {
      "text/html": [
       "<div>\n",
       "<style scoped>\n",
       "    .dataframe tbody tr th:only-of-type {\n",
       "        vertical-align: middle;\n",
       "    }\n",
       "\n",
       "    .dataframe tbody tr th {\n",
       "        vertical-align: top;\n",
       "    }\n",
       "\n",
       "    .dataframe thead th {\n",
       "        text-align: right;\n",
       "    }\n",
       "</style>\n",
       "<table border=\"1\" class=\"dataframe\">\n",
       "  <thead>\n",
       "    <tr style=\"text-align: right;\">\n",
       "      <th></th>\n",
       "      <th>review_text</th>\n",
       "      <th>class</th>\n",
       "    </tr>\n",
       "  </thead>\n",
       "  <tbody>\n",
       "    <tr>\n",
       "      <th>0</th>\n",
       "      <td>Boa Tv Ate agora gostei so este sistema roku q...</td>\n",
       "      <td>1</td>\n",
       "    </tr>\n",
       "    <tr>\n",
       "      <th>1</th>\n",
       "      <td>Maravilhosa  Apaixonada serio tô amando essa t...</td>\n",
       "      <td>1</td>\n",
       "    </tr>\n",
       "    <tr>\n",
       "      <th>2</th>\n",
       "      <td>Audio e imagem surpreendentes  Estou adorando ...</td>\n",
       "      <td>1</td>\n",
       "    </tr>\n",
       "    <tr>\n",
       "      <th>3</th>\n",
       "      <td>Ótimo produto e Melhor qualidade!! Ótimaa qual...</td>\n",
       "      <td>1</td>\n",
       "    </tr>\n",
       "    <tr>\n",
       "      <th>4</th>\n",
       "      <td>Superou minhas expectativas Gostei bastante, s...</td>\n",
       "      <td>1</td>\n",
       "    </tr>\n",
       "  </tbody>\n",
       "</table>\n",
       "</div>"
      ],
      "text/plain": [
       "                                         review_text  class\n",
       "0  Boa Tv Ate agora gostei so este sistema roku q...      1\n",
       "1  Maravilhosa  Apaixonada serio tô amando essa t...      1\n",
       "2  Audio e imagem surpreendentes  Estou adorando ...      1\n",
       "3  Ótimo produto e Melhor qualidade!! Ótimaa qual...      1\n",
       "4  Superou minhas expectativas Gostei bastante, s...      1"
      ]
     },
     "execution_count": 5,
     "metadata": {},
     "output_type": "execute_result"
    }
   ],
   "source": [
    "df_reviews[\"class\"] = df_reviews[\"review_rate\"].apply(\n",
    "    lambda item: 1 if item > 3 else 0\n",
    ")\n",
    "\n",
    "df_reviews.drop(\n",
    "    [\n",
    "        \"product_id\",\n",
    "        \"product_name\",\n",
    "        \"product_brand\",\n",
    "        \"product_line\",\n",
    "        \"review_date\",\n",
    "        \"review_rate\",\n",
    "        \"review_likes\",\n",
    "        \"review_dislikes\",\n",
    "        \"review_relevance\",\n",
    "        \"client_buying_date\",\n",
    "        \"product_type\",\n",
    "    ],\n",
    "    axis=1,\n",
    "    inplace=True,\n",
    ")\n",
    "\n",
    "df_reviews.head()"
   ]
  },
  {
   "cell_type": "markdown",
   "id": "f7814770",
   "metadata": {},
   "source": [
    "### Tratando texto"
   ]
  },
  {
   "cell_type": "markdown",
   "id": "cbab08db",
   "metadata": {},
   "source": [
    "Para tratar o texto, foram realizados os seguintes procedimentos:\n",
    "- Remoção de pontuação e dígitos\n",
    "- Conversão de todo o texto para minúsculo\n",
    "- Remoção de quebras de linha\n",
    "- Remoção de stop words\n",
    "   - Stop words são palavras que são consideradas irrelevantes para a geração do modelo, portanto podem ser removidas\n",
    "- [Stemização](https://pt.wikipedia.org/wiki/Stemiza%C3%A7%C3%A3o#:~:text=Em%20morfologia%20lingu%C3%ADstica%20e%20recupera%C3%A7%C3%A3o,uma%20forma%20da%20palavra%20escrita.) das palavras\n",
    "    - Redução da palavra à sua base\n",
    "    - Algoritmo utilizado: [RSLP](https://www.inf.ufrgs.br/~viviane/rslp/index.htm)\n",
    "- Remoção de acentuação"
   ]
  },
  {
   "cell_type": "code",
   "execution_count": 6,
   "id": "313f2dc7",
   "metadata": {},
   "outputs": [
    {
     "name": "stdout",
     "output_type": "stream",
     "text": [
      "Texto original:\n",
      "Boa Tv Ate agora gostei so este sistema roku que e meio chato.\n",
      "\n",
      "Texto formatado:\n",
      "boa tv ate agor gost so sistem roku mei chat\n"
     ]
    }
   ],
   "source": [
    "chars_to_remove = punctuation + digits\n",
    "\n",
    "stemmer = RSLPStemmer()\n",
    "stop_words = stopwords.words(\"portuguese\")\n",
    "\n",
    "def text_formatter(text: str):\n",
    "    table = str.maketrans(chars_to_remove, (\" \" * len(chars_to_remove)))\n",
    "    formatted_text = text.lower().replace(\"\\n\", \" \").translate(table)\n",
    "    \n",
    "    formatted_text = \" \".join(\n",
    "        [\n",
    "            stemmer.stem(word)\n",
    "            for word\n",
    "            in formatted_text.split(\" \")\n",
    "            if word\n",
    "            and word not in stop_words\n",
    "        ]\n",
    "    )\n",
    "    formatted_text = unidecode(formatted_text)\n",
    "    \n",
    "    return formatted_text\n",
    "\n",
    "print(\"Texto original:\")\n",
    "text = df_reviews[\"review_text\"][0]\n",
    "print(text)\n",
    "\n",
    "print(\"\\nTexto formatado:\")\n",
    "formatted_text = text_formatter(text)\n",
    "print(formatted_text)"
   ]
  },
  {
   "cell_type": "markdown",
   "id": "6284039c",
   "metadata": {},
   "source": [
    "Aplicando tratativa de texto para todos os registros restantes"
   ]
  },
  {
   "cell_type": "code",
   "execution_count": 7,
   "id": "2a1292f4",
   "metadata": {},
   "outputs": [
    {
     "name": "stderr",
     "output_type": "stream",
     "text": [
      "100%|██████████████████████████████████████████████████████████████████████████| 36362/36362 [00:13<00:00, 2656.24it/s]\n"
     ]
    }
   ],
   "source": [
    "df_reviews[\"clean_text\"] = df_reviews[\"review_text\"].progress_apply(\n",
    "    lambda item: text_formatter(item)\n",
    ")"
   ]
  },
  {
   "cell_type": "code",
   "execution_count": 8,
   "id": "fa906514",
   "metadata": {},
   "outputs": [
    {
     "data": {
      "text/html": [
       "<div>\n",
       "<style scoped>\n",
       "    .dataframe tbody tr th:only-of-type {\n",
       "        vertical-align: middle;\n",
       "    }\n",
       "\n",
       "    .dataframe tbody tr th {\n",
       "        vertical-align: top;\n",
       "    }\n",
       "\n",
       "    .dataframe thead th {\n",
       "        text-align: right;\n",
       "    }\n",
       "</style>\n",
       "<table border=\"1\" class=\"dataframe\">\n",
       "  <thead>\n",
       "    <tr style=\"text-align: right;\">\n",
       "      <th></th>\n",
       "      <th>review_text</th>\n",
       "      <th>class</th>\n",
       "      <th>clean_text</th>\n",
       "    </tr>\n",
       "  </thead>\n",
       "  <tbody>\n",
       "    <tr>\n",
       "      <th>0</th>\n",
       "      <td>Boa Tv Ate agora gostei so este sistema roku q...</td>\n",
       "      <td>1</td>\n",
       "      <td>boa tv ate agor gost so sistem roku mei chat</td>\n",
       "    </tr>\n",
       "    <tr>\n",
       "      <th>1</th>\n",
       "      <td>Maravilhosa  Apaixonada serio tô amando essa t...</td>\n",
       "      <td>1</td>\n",
       "      <td>maravilh apaixon seri to am tv sup satisfeit t...</td>\n",
       "    </tr>\n",
       "    <tr>\n",
       "      <th>2</th>\n",
       "      <td>Audio e imagem surpreendentes  Estou adorando ...</td>\n",
       "      <td>1</td>\n",
       "      <td>audi imag surpreend ador tv tod app assin ja a...</td>\n",
       "    </tr>\n",
       "    <tr>\n",
       "      <th>3</th>\n",
       "      <td>Ótimo produto e Melhor qualidade!! Ótimaa qual...</td>\n",
       "      <td>1</td>\n",
       "      <td>otim produt melhor qual otima qual parabem sup...</td>\n",
       "    </tr>\n",
       "    <tr>\n",
       "      <th>4</th>\n",
       "      <td>Superou minhas expectativas Gostei bastante, s...</td>\n",
       "      <td>1</td>\n",
       "      <td>super expect gost bast super expect fic perfei...</td>\n",
       "    </tr>\n",
       "    <tr>\n",
       "      <th>...</th>\n",
       "      <td>...</td>\n",
       "      <td>...</td>\n",
       "      <td>...</td>\n",
       "    </tr>\n",
       "    <tr>\n",
       "      <th>36357</th>\n",
       "      <td>Enganação Aparelho usado, com a tela trincada ...</td>\n",
       "      <td>0</td>\n",
       "      <td>engan aparelh us tel trinc arranho later saud ...</td>\n",
       "    </tr>\n",
       "    <tr>\n",
       "      <th>36358</th>\n",
       "      <td>Muito ruim Sofri uma tentativa de golpe e a pe...</td>\n",
       "      <td>0</td>\n",
       "      <td>ruim sofr tent golp pesso vincul ped cont dess...</td>\n",
       "    </tr>\n",
       "    <tr>\n",
       "      <th>36359</th>\n",
       "      <td>Produto com defeito. Não segura carga. Produto...</td>\n",
       "      <td>0</td>\n",
       "      <td>produt defeit segur carg produt segur carg car...</td>\n",
       "    </tr>\n",
       "    <tr>\n",
       "      <th>36360</th>\n",
       "      <td>Custo alto, mas o investimento vale a pena! Pr...</td>\n",
       "      <td>1</td>\n",
       "      <td>cust alt invest val pen produt impeca val val ...</td>\n",
       "    </tr>\n",
       "    <tr>\n",
       "      <th>36361</th>\n",
       "      <td>EXCELENTE, mostrou porquê é mais caro! Excelen...</td>\n",
       "      <td>1</td>\n",
       "      <td>excel mostr porqu car excel respond porqu mai ...</td>\n",
       "    </tr>\n",
       "  </tbody>\n",
       "</table>\n",
       "<p>36362 rows × 3 columns</p>\n",
       "</div>"
      ],
      "text/plain": [
       "                                             review_text  class  \\\n",
       "0      Boa Tv Ate agora gostei so este sistema roku q...      1   \n",
       "1      Maravilhosa  Apaixonada serio tô amando essa t...      1   \n",
       "2      Audio e imagem surpreendentes  Estou adorando ...      1   \n",
       "3      Ótimo produto e Melhor qualidade!! Ótimaa qual...      1   \n",
       "4      Superou minhas expectativas Gostei bastante, s...      1   \n",
       "...                                                  ...    ...   \n",
       "36357  Enganação Aparelho usado, com a tela trincada ...      0   \n",
       "36358  Muito ruim Sofri uma tentativa de golpe e a pe...      0   \n",
       "36359  Produto com defeito. Não segura carga. Produto...      0   \n",
       "36360  Custo alto, mas o investimento vale a pena! Pr...      1   \n",
       "36361  EXCELENTE, mostrou porquê é mais caro! Excelen...      1   \n",
       "\n",
       "                                              clean_text  \n",
       "0           boa tv ate agor gost so sistem roku mei chat  \n",
       "1      maravilh apaixon seri to am tv sup satisfeit t...  \n",
       "2      audi imag surpreend ador tv tod app assin ja a...  \n",
       "3      otim produt melhor qual otima qual parabem sup...  \n",
       "4      super expect gost bast super expect fic perfei...  \n",
       "...                                                  ...  \n",
       "36357  engan aparelh us tel trinc arranho later saud ...  \n",
       "36358  ruim sofr tent golp pesso vincul ped cont dess...  \n",
       "36359  produt defeit segur carg produt segur carg car...  \n",
       "36360  cust alt invest val pen produt impeca val val ...  \n",
       "36361  excel mostr porqu car excel respond porqu mai ...  \n",
       "\n",
       "[36362 rows x 3 columns]"
      ]
     },
     "execution_count": 8,
     "metadata": {},
     "output_type": "execute_result"
    }
   ],
   "source": [
    "df_reviews"
   ]
  },
  {
   "cell_type": "markdown",
   "id": "ad3ff571",
   "metadata": {},
   "source": [
    "### Balanceamento de classes"
   ]
  },
  {
   "cell_type": "markdown",
   "id": "bb2a892d",
   "metadata": {},
   "source": [
    "Para que se obtenha melhores resultados ao gerar o modelo, é necessário que as classes estejam balanceadas.\n",
    "\n",
    "Desse modo, optamos por gerar um dataset contendo a mesma quantidade de reviews positivos e reviews negativos"
   ]
  },
  {
   "cell_type": "code",
   "execution_count": 9,
   "id": "2990830b",
   "metadata": {},
   "outputs": [],
   "source": [
    "df = df_reviews.copy()\n",
    "\n",
    "df.drop(\"review_text\", axis=1, inplace=True)\n",
    "df = df[[\"clean_text\", \"class\"]]"
   ]
  },
  {
   "cell_type": "code",
   "execution_count": 10,
   "id": "858976d4",
   "metadata": {},
   "outputs": [
    {
     "data": {
      "text/plain": [
       "1    32398\n",
       "0     3964\n",
       "Name: class, dtype: int64"
      ]
     },
     "execution_count": 10,
     "metadata": {},
     "output_type": "execute_result"
    }
   ],
   "source": [
    "df[\"class\"].value_counts()"
   ]
  },
  {
   "cell_type": "markdown",
   "id": "55652a66",
   "metadata": {},
   "source": [
    "Utilizando o `value_counts` verifica-se a diferença entre a quantidade de classes positivas (1) e classes negativas (0). Para balancear, foram utilizados alguns critérios:\n",
    "\n",
    "- Inicialmente foram gerados dois datasets, um contendo apenas reviews positivos e outro contendo apenas reviews negativos\n",
    "- Então foi gerada a média da quantidade de palavras em todos os reviews negativos\n",
    "- Tendo esse número, foram removidos todos os registros positivos que tinham quantidade de palavras abaixo desta média\n",
    "- Como ainda sobraram mais registros positivos que negativos, estes foram removidos aleatoriamente até chegar no mesmo valor de números negativos\n",
    "- Por fim, os dois datasets foram concatenados e o dataset gerado foi salvo num CSV"
   ]
  },
  {
   "cell_type": "code",
   "execution_count": 11,
   "id": "832a7c16",
   "metadata": {},
   "outputs": [
    {
     "name": "stdout",
     "output_type": "stream",
     "text": [
      "18.02648839556004\n"
     ]
    }
   ],
   "source": [
    "negative_reviews = df[df[\"class\"] == 0]\n",
    "positive_reviews = df[df[\"class\"] == 1]\n",
    "\n",
    "negative_reviews.reset_index(drop=True, inplace=True)\n",
    "positive_reviews.reset_index(drop=True, inplace=True)\n",
    "\n",
    "negative_reviews_mean = df[df[\"class\"] == 0][\"clean_text\"].str.split().apply(len).mean()\n",
    "print(negative_reviews_mean)\n",
    "\n",
    "positive_reviews = positive_reviews[positive_reviews[\"clean_text\"].str.split().apply(len) > negative_reviews_mean]\n",
    "positive_reviews = positive_reviews.sample(n=len(negative_reviews))\n",
    "positive_reviews.reset_index(drop=True, inplace=True)\n",
    "\n",
    "df = pd.concat([positive_reviews, negative_reviews])\n",
    "df.reset_index(drop=True, inplace=True)"
   ]
  },
  {
   "cell_type": "code",
   "execution_count": 12,
   "id": "5361c40d",
   "metadata": {},
   "outputs": [
    {
     "data": {
      "text/plain": [
       "1    3964\n",
       "0    3964\n",
       "Name: class, dtype: int64"
      ]
     },
     "execution_count": 12,
     "metadata": {},
     "output_type": "execute_result"
    }
   ],
   "source": [
    "df[\"class\"].value_counts()"
   ]
  },
  {
   "cell_type": "code",
   "execution_count": 13,
   "id": "4e5336e4",
   "metadata": {},
   "outputs": [],
   "source": [
    "# df.to_csv(\"./data/balanced_reviews.csv\", index=False)"
   ]
  },
  {
   "cell_type": "markdown",
   "id": "87496740",
   "metadata": {},
   "source": [
    "### Separando em treino e teste"
   ]
  },
  {
   "cell_type": "code",
   "execution_count": 14,
   "id": "1b6f67ee",
   "metadata": {},
   "outputs": [],
   "source": [
    "df_result = pd.read_csv(\"./data/balanced_reviews.csv\")\n",
    "df_result.columns = [\"review_text\", \"class\"]"
   ]
  },
  {
   "cell_type": "code",
   "execution_count": 15,
   "id": "1d4cd426",
   "metadata": {},
   "outputs": [
    {
     "name": "stdout",
     "output_type": "stream",
     "text": [
      "\n",
      "    Shapes:\n",
      "    X_train: 5946\n",
      "    y_train: 5946\n",
      "    X_test: 1982\n",
      "    y_test: 1982\n",
      "    \n"
     ]
    }
   ],
   "source": [
    "X = df_result[\"review_text\"]\n",
    "y = df_result[\"class\"]\n",
    "\n",
    "X_train, X_test, y_train, y_test = train_test_split(\n",
    "    X, y, test_size=0.25, random_state=5,\n",
    ")\n",
    "\n",
    "print(\n",
    "    f\"\"\"\n",
    "    Shapes:\n",
    "    X_train: {len(X_train)}\n",
    "    y_train: {len(y_train)}\n",
    "    X_test: {len(X_test)}\n",
    "    y_test: {len(y_test)}\n",
    "    \"\"\"\n",
    ")"
   ]
  },
  {
   "cell_type": "markdown",
   "id": "d9e23b94",
   "metadata": {},
   "source": [
    "### Vetorização"
   ]
  },
  {
   "cell_type": "markdown",
   "id": "9d29af43",
   "metadata": {},
   "source": [
    "Inicialmente, utiliza-se o `Tokenizer` do Keras para listar todas as palavras existentes no dataset, e então, estimarmos o tamanho do vocabulário."
   ]
  },
  {
   "cell_type": "code",
   "execution_count": 16,
   "id": "3928e18d",
   "metadata": {},
   "outputs": [
    {
     "name": "stdout",
     "output_type": "stream",
     "text": [
      "{'compr': 1, 'tv': 2, 'otim': 3, 'celul': 4, 'bom': 5, 'produt': 6, 'excel': 7, 'aparelh': 8, 'boa': 9, 'ruim': 10, 'pra': 11, 'bat': 12, 'recom': 13, 'cust': 14, 'tel': 15, 'uso': 16, 'benefici': 17, 'imag': 18, 'dia': 19, 'qual': 20, 'cam': 21, 'melhor': 22, 'problem': 23, 'bem': 24, 'gost': 25, 'tod': 26, 'nao': 27, 'fic': 28, 'som': 29, 'rapid': 30, 'dur': 31, 'outr': 32, 'defeit': 33, 'val': 34, 'nad': 35, 'mes': 36, 'pess': 37, 'vei': 38, 'func': 39, 'pouc': 40, 'carreg': 41, 'pod': 42, 'us': 43, 'prec': 44, 'perfeit': 45, 'tr': 46, 'tud': 47, 'lig': 48, 'sup': 49, 'sistem': 50, 'jog': 51, 'marc': 52, 'aplic': 53, 'app': 54, 'faz': 55, 'poi': 56, 'ter': 57, 'android': 58, 'top': 59, 'control': 60, 'aind': 61, 'ach': 62, 'q': 63, 'vez': 64, 'agor': 65, 'deu': 66, 'funcion': 67, 'algum': 68, 'apresent': 69, 'deix': 70, 'muit': 71, 'atend': 72, 'nov': 73, 'baix': 74, 'porem': 75, 'not': 76, 'menos': 77, 'bonit': 78, 'facil': 79, 'pen': 80, 'precis': 81, 'trav': 82, 'esper': 83, 'smart': 84, 'ano': 85, 'satisfeit': 86, 'garant': 87, 'fal': 88, 'vem': 89, 'xiaom': 90, 'lg': 91, 'deslig': 92, 'assist': 93, 'memor': 94, 'apen': 95, 'fot': 96, 'lind': 97, 'troc': 98, 'merc': 99, 'audi': 100, 'smartphon': 101, 'lev': 102, 'lent': 103, 'temp': 104, 'quer': 105, 'process': 106, 'bast': 107, 'real': 108, 'vai': 109, 'samsung': 110, 'entr': 111, 'alt': 112, 'cois': 113, 'vc': 114, 'maravilh': 115, 'ta': 116, 'instal': 117, 'me': 118, 'ja': 119, 'arrepend': 120, 'nenhum': 121, 'unic': 122, 'prim': 123, 'so': 124, 'configur': 125, 'hor': 126, 'expect': 127, 'cert': 128, 'rod': 129, 'pont': 130, 'desej': 131, 'gb': 132, 'porqu': 133, 'atual': 134, 'k': 135, 'demal': 136, 'vou': 137, 'par': 138, 'cor': 139, 'fon': 140, 'dess': 141, 'desempenh': 142, 'grand': 143, 'pag': 144, 'mim': 145, 'decepcion': 146, 'acab': 147, 'med': 148, 'telefon': 149, 'resolv': 150, 'horr': 151, 'parec': 152, 'nunc': 153, 'alem': 154, 'vide': 155, 'da': 156, 'iphon': 157, 'orig': 158, 'dev': 159, 'falt': 160, 'reclam': 161, 'internet': 162, 'assim': 163, 'doi': 164, 'cont': 165, 'ouv': 166, 'livr': 167, 'tir': 168, 'moment': 169, 'ent': 170, 'peg': 171, 'g': 172, 'model': 173, 'simples': 174, 'opc': 175, 'tamanh': 176, 'conect': 177, 'com': 178, 'digit': 179, 'ame': 180, 'diz': 181, 'comec': 182, 'caix': 183, 'acess': 184, 'volt': 185, 'loj': 186, 'mand': 187, 'vend': 188, 'incr': 189, 'car': 190, 'simpl': 191, 'n': 192, 'youtub': 193, 'surpreend': 194, 'x': 195, 'volum': 196, 'sab': 197, 'tant': 198, 'consegu': 199, 'cas': 200, 'sempr': 201, 'coloc': 202, 'fiz': 203, 'sobr': 204, 'basic': 205, 'qu': 206, 'aparec': 207, 'pro': 208, 'linh': 209, 'tao': 210, 'ant': 211, 'indic': 212, 'dinh': 213, 'pequen': 214, 'voz': 215, 'netflix': 216, 's': 217, 'ver': 218, 'fiq': 219, 'recurs': 220, 'utiliz': 221, 'possu': 222, 'quas': 223, 'ram': 224, 'ador': 225, 'abr': 226, 'mei': 227, 'dem': 228, 'quant': 229, 'respond': 230, 'pass': 231, 'mesm': 232, 'tcl': 233, 'necess': 234, 'perd': 235, 'pi': 236, 'remot': 237, 'diss': 238, 'complet': 239, 'estrel': 240, 'tecn': 241, 'cap': 242, 'aqu': 243, 'design': 244, 'send': 245, 'consig': 246, 'apes': 247, 'vi': 248, 'motorol': 249, 'dar': 250, 'pes': 251, 'norm': 252, 'pq': 253, 'vari': 254, 'hd': 255, 'tom': 256, 'mi': 257, 'princip': 258, 'porc': 259, 'sei': 260, 'devolv': 261, 'seman': 262, 'pesso': 263, 'faix': 264, 'qualqu': 265, 'prest': 266, 'part': 267, 'mai': 268, 'geral': 269, 'cheg': 270, 'total': 271, 'hoj': 272, 'fiscal': 273, 'poss': 274, 'sensac': 275, 'cumpr': 276, 'nega': 277, 'operac': 278, 'wi': 279, 'fi': 280, 'super': 281, 'tent': 282, 'infeliz': 283, 'escolh': 284, 'relac': 285, 'canal': 286, 'ness': 287, 'barat': 288, 'pesquis': 289, 'pret': 290, 'sai': 291, 'apos': 292, 'apag': 293, 'suport': 294, 'televis': 295, 'quebr': 296, 'ninguem': 297, 'nel': 298, 'mex': 299, 'resoluc': 300, 'cab': 301, 'ajud': 302, 'dua': 303, 'promet': 304, 'red': 305, 'front': 306, 'bluetooth': 307, 'difer': 308, 'frac': 309, 'estrag': 310, 'respost': 311, 'ai': 312, 'duv': 313, 'trabalh': 314, 'opin': 315, 'por': 316, 'feliz': 317, 'fac': 318, 'descarreg': 319, 'to': 320, 'pelicul': 321, 'segund': 322, 'compar': 323, 'um': 324, 'engan': 325, 'enfim': 326, 'conex': 327, 'bot': 328, 'googl': 329, 'show': 330, 'ok': 331, 'sinal': 332, 'espac': 333, 'film': 334, 'obrig': 335, 'cart': 336, 'rest': 337, 'p': 338, 'esquent': 339, 'sim': 340, 'tras': 341, 'contr': 342, 'mot': 343, 'experi': 344, 'tip': 345, 'chip': 346, 'cad': 347, 'filh': 348, 'coment': 349, 'queim': 350, 'pres': 351, 'antig': 352, 'decepc': 353, 'rap': 354, 'var': 355, 'dentr': 356, 'pens': 357, 'diferenc': 358, 'appl': 359, 'oferec': 360, 'fabr': 361, 'contat': 362, 'play': 363, 'naveg': 364, 'wif': 365, 'la': 366, 'tranquil': 367, 'tecnolog': 368, 'usa': 369, 'brasil': 370, 'adapt': 371, 'ped': 372, 'grav': 373, 'pec': 374, 'ate': 375, 'mod': 376, 'conhec': 377, 'mud': 378, 'max': 379, 'gast': 380, 'esp': 381, 'receb': 382, 'lix': 383, 'test': 384, 'int': 385, 'noit': 386, 'acredit': 387, 'dand': 388, 'parabem': 389, 'segur': 390, 'insatisfeit': 391, 'tre': 392, 'encontr': 393, 'adquir': 394, 'olh': 395, 'funcional': 396, 'mao': 397, 'flu': 398, 'direit': 399, 'sent': 400, 'soment': 401, 'intermedi': 402, 'dest': 403, 'veloc': 404, 'procur': 405, 'redm': 406, 'err': 407, 'fant': 408, 'alg': 409, 'quart': 410, 'recomend': 411, 'carg': 412, 'arrep': 413, 'diret': 414, 'whatsapp': 415, 'falh': 416, 'fat': 417, 'brilh': 418, 'invest': 419, 'serv': 420, 'intern': 421, 'viv': 422, 'envi': 423, 'exempl': 424, 'plu': 425, 'etc': 426, 'acostum': 427, 'armazen': 428, 'tbm': 429, 'acontec': 430, 'poleg': 431, 'enquant': 432, 'vers': 433, 'tend': 434, 'continu': 435, 'legal': 436, 'dificil': 437, 'detalh': 438, 'dei': 439, 'escur': 440, 'full': 441, 'risc': 442, 'igual': 443, 'vir': 444, 'chei': 445, 'jeit': 446, 'ambi': 447, 'd': 448, 'aquis': 449, 'said': 450, 'cham': 451, 'modern': 452, 'nit': 453, 'possivel': 454, 'fabric': 455, 'padr': 456, 'durabil': 457, 'tecl': 458, 'medi': 459, 'junt': 460, 'mae': 461, 'resum': 462, 'bug': 463, 'superi': 464, 'extrem': 465, 'am': 466, 'vid': 467, 'consert': 468, 'fin': 469, 'conseg': 470, 'sensor': 471, 'abert': 472, 'uma': 473, 'prejuiz': 474, 'reinici': 475, 'resist': 476, 'lacr': 477, 'si': 478, 'exig': 479, 'quest': 480, 'cuid': 481, 'via': 482, 'asu': 483, 'aguard': 484, 'divers': 485, 'mens': 486, 'inici': 487, 'mal': 488, 'aguent': 489, 'atras': 490, 'autor': 491, 'exist': 492, 'usu': 493, 'form': 494, 'espetacul': 495, 'luz': 496, 'branc': 497, 'mto': 498, 'manch': 499, 'razoa': 500, 'prat': 501, 'dificuldad': 502, 'est': 503, 'horri': 504, 'equip': 505, 'ult': 506, 'soc': 507, 'nest': 508, 'cabec': 509, 'confi': 510, 'bord': 511, 'dad': 512, 'amazon': 513, 'philc': 514, 'incomod': 515, 'clar': 516, 'c': 517, 'reconhec': 518, 'use': 519, 'interfac': 520, 'cobr': 521, 'anteri': 522, 'compens': 523, 'caus': 524, 'hardw': 525, 'mil': 526, 'miu': 527, 'propagand': 528, 'pur': 529, 'trist': 530, 'avali': 531, 'softw': 532, 'm': 533, 'maior': 534, 'busc': 535, 'man': 536, 'desd': 537, 'fort': 538, 'curt': 539, 'leit': 540, 'lo': 541, 'talv': 542, 'menu': 543, 'lad': 544, 'depend': 545, 'seri': 546, 'potent': 547, 'moni': 548, 'agrad': 549, 'torn': 550, 'aceit': 551, 'hav': 552, 'long': 553, 'inform': 554, 'ond': 555, 'concorr': 556, 'demor': 557, 'inferi': 558, 'vist': 559, 'gent': 560, 'hdm': 561, 'efici': 562, 'pratic': 563, 'r': 564, 'televi': 565, 'quis': 566, 'pud': 567, 'consider': 568, 'ml': 569, 'espelh': 570, 'vao': 571, 'quesit': 572, 'philip': 573, 'fragil': 574, 'verdad': 575, 'plac': 576, 'excepc': 577, 'touch': 578, 'dou': 579, 'aprov': 580, 'centav': 581, 'espect': 582, 'absurd': 583, 'permit': 584, 'display': 585, 'toqu': 586, 'posi': 587, 'led': 588, 'fez': 589, 'cel': 590, 'sufici': 591, 'dor': 592, 'mt': 593, 'limp': 594, 'program': 595, 'limit': 596, 'abaix': 597, 'log': 598, 'impress': 599, 'descr': 600, 'acessori': 601, 'perceb': 602, 'integr': 603, 'categor': 604, 'frent': 605, 'bol': 606, 'intui': 607, 'gam': 608, 'descobr': 609, 'just': 610, 'final': 611, 'ideal': 612, 'sony': 613, 'sit': 614, 'comum': 615, 'lit': 616, 'regul': 617, 'ajust': 618, 'capac': 619, 'aument': 620, 'acompanh': 621, 'compat': 622, 'azul': 623, 'duvid': 624, 'retorn': 625, 'aconselh': 626, 'exat': 627, 'min': 628, 'feit': 629, 'inclusiv': 630, 'import': 631, 'defin': 632, 'visual': 633, 'aparent': 634, 'later': 635, 'usb': 636, 'listr': 637, 'bel': 638, 'amou': 639, 'soluc': 640, 'estranh': 641, 'glob': 642, 'mater': 643, 'h': 644, 'pessoal': 645, 'client': 646, 'pared': 647, 'acim': 648, 'men': 649, 'ma': 650, 'hom': 651, 'exel': 652, 'ativ': 653, 'acion': 654, 'proc': 655, 'hdr': 656, 'taref': 657, 'comig': 658, 'merd': 659, 'zenfon': 660, 'interess': 661, 'impression': 662, 'chromecast': 663, 'sansung': 664, 'seguranc': 665, 'performanc': 666, 'atualiz': 667, 'respeit': 668, 'consum': 669, 'tav': 670, 'agu': 671, 'tb': 672, 'atrapalh': 673, 'mostr': 674, 'moder': 675, 'trat': 676, 'arrum': 677, 'verd': 678, 'concert': 679, 'mund': 680, 'amoled': 681, 'traz': 682, 'sum': 683, 'apaixon': 684, 'poc': 685, 'extern': 686, 'der': 687, 'ir': 688, 'pe': 689, 'sens': 690, 'fim': 691, 'nivel': 692, 'entend': 693, 'lug': 694, 'oq': 695, 'const': 696, 'gig': 697, 'devoluc': 698, 'vej': 699, 'aut': 700, 'complic': 701, 'prox': 702, 'especific': 703, 'papel': 704, 'encaix': 705, 'recei': 706, 'music': 707, 'streaming': 708, 'oper': 709, 'cl': 710, 'impec': 711, 'pixel': 712, 'tard': 713, 'correspond': 714, 'chin': 715, 'coloq': 716, 'lis': 717, 'util': 718, 'esquec': 719, 'apert': 720, 'qued': 721, 'po': 722, 'tamb': 723, 'emb': 724, 'pow': 725, 'vidr': 726, 'assistenc': 727, 'propri': 728, 'terc': 729, 'bols': 730, 'favor': 731, 'imagin': 732, 'motiv': 733, 'oqu': 734, 'econom': 735, 'hz': 736, 'bost': 737, 'sinc': 738, 'disney': 739, 'fluid': 740, 'fech': 741, 'engasg': 742, 'gal': 743, 'adiant': 744, 'cai': 745, 'dispon': 746, 'foc': 747, 'sid': 748, 'sair': 749, 'amig': 750, 'eh': 751, 'go': 752, 'supr': 753, 'gc': 754, 'ps': 755, 'ne': 756, 'golp': 757, 'vantag': 758, 'lanc': 759, 'anunci': 760, 'aspect': 761, 'ocorr': 762, 'opt': 763, 'sao': 764, 'aprend': 765, 'tra': 766, 'desbloquei': 767, 'venh': 768, 'ilumin': 769, 'microfon': 770, 'eletron': 771, 'pert': 772, 'j': 773, 'agil': 774, 'realiz': 775, 't': 776, 'inic': 777, 'propr': 778, 'dat': 779, 'nativ': 780, 'ganh': 781, 'smartv': 782, 'arqu': 783, 'ultr': 784, 'minut': 785, 'conform': 786, 'nom': 787, 'io': 788, 'zer': 789, 'dez': 790, 'cm': 791, 'plas': 792, 'costum': 793, 'notific': 794, 'incri': 795, 'ia': 796, 'format': 797, 'plan': 798, 'palavr': 799, 'televisa': 800, 'elogi': 801, 'nacion': 802, 'satisf': 803, 'enorm': 804, 'fals': 805, 'flash': 806, 'satisfator': 807, 'port': 808, 'vim': 809, 'pif': 810, 'preocup': 811, 'construc': 812, 'imposs': 813, 'semp': 814, 'termin': 815, 'numer': 816, 'i': 817, 'local': 818, 'saiu': 819, 'manusei': 820, 'cancel': 821, 'senh': 822, 'futur': 823, 'chate': 824, 'tem': 825, 'graf': 826, 'cinc': 827, 'pisc': 828, 'nitid': 829, 'parafus': 830, 'ser': 831, 'pre': 832, 'caiu': 833, 'grac': 834, 'acord': 835, 'nok': 836, 'escut': 837, 'cinem': 838, 'sort': 839, 'fam': 840, 'vaz': 841, 'meg': 842, 'ob': 843, 'intelig': 844, 'stor': 845, 'voc': 846, 'globoplay': 847, 'fa': 848, 'arranh': 849, 'compact': 850, 'soub': 851, 'frequ': 852, 've': 853, 'raiv': 854, 'solt': 855, 'disposi': 856, 'pilh': 857, 'td': 858, 'ira': 859, 'sal': 860, 'anten': 861, 'bacan': 862, 'alguem': 863, 'banc': 864, 'web': 865, 'hj': 866, 'metad': 867, 'roub': 868, 'sint': 869, 'frustr': 870, 'fiqu': 871, 'apo': 872, 'verific': 873, 'troq': 874, 'selfi': 875, 'cim': 876, 'quatr': 877, 'aquec': 878, 'biometr': 879, 'dic': 880, 'mat': 881, 'cinz': 882, 'mp': 883, 'hbo': 884, 'possibil': 885, 'intens': 886, 'eleg': 887, 'durado': 888, 'protec': 889, 'iptv': 890, 'entreg': 891, 'atenc': 892, 'fisic': 893, 'fotograf': 894, 'toc': 895, 'confess': 896, 'energ': 897, 'velh': 898, 'bloque': 899, 'caracteris': 900, 'especif': 901, 'confort': 902, 'infinit': 903, 'pau': 904, 'principi': 905, 'vermelh': 906, 'agr': 907, 'li': 908, 'mont': 909, 'poblem': 910, 'profiss': 911, 'corret': 912, 'it': 913, 'galaxy': 914, 'one': 915, 'ressalv': 916, 'recent': 917, 'dao': 918, 'facilit': 919, 'di': 920, 'trinc': 921, 'roku': 922, 'msm': 923, 'co': 924, 'adequ': 925, 'avis': 926, 'pc': 927, 'ocup': 928, 'embut': 929, 'propo': 930, 'crei': 931, 'ger': 932, 'sd': 933, 'surpr': 934, 'simil': 935, 'chav': 936, 'saind': 937, 'autonom': 938, 'sombr': 939, 'color': 940, 'vam': 941, 'chat': 942, 'capt': 943, 'manus': 944, 'reset': 945, 'retir': 946, 'pubg': 947, 'tub': 948, 'reembols': 949, 'sofr': 950, 'list': 951, 'satisfatori': 952, 'noturn': 953, 'net': 954, 'prefer': 955, 'pergunt': 956, 'vontad': 957, 'comput': 958, 'irma': 959, 'tou': 960, 'decid': 961, 'iri': 962, 'msg': 963, 'relat': 964, 'tradic': 965, 'ghz': 966, 'de': 967, 'box': 968, 'fund': 969, 'proced': 970, 'virtual': 971, 'auxili': 972, 'parcel': 973, 'desconect': 974, 'estere': 975, 'otimiz': 976, 'segu': 977, 'e': 978, 'ning': 979, 'letr': 980, 'hr': 981, 'observ': 982, 'constru': 983, 'marid': 984, 'smarttv': 985, 'gp': 986, 'atraves': 987, 'conjunt': 988, 'repl': 989, 'apar': 990, 'merec': 991, 'destaqu': 992, 'pos': 993, 'review': 994, 'altern': 995, 'fio': 996, 'vici': 997, 'efeit': 998, 'ades': 999, 'mah': 1000, 'ire': 1001, 'espec': 1002, 'pare': 1003, 'automa': 1004, 'praz': 1005, 'escrit': 1006, 'tal': 1007, 'theat': 1008, 'cerc': 1009, 'nfc': 1010, 'derrub': 1011, 'portant': 1012, 'lid': 1013, 'mant': 1014, 'fp': 1015, 'saud': 1016, 'gigant': 1017, 'instagr': 1018, 'mid': 1019, 'ah': 1020, 'lcd': 1021, 'reinic': 1022, 'pouq': 1023, 'lembr': 1024, 'desenvolv': 1025, 'vinh': 1026, 'vitrin': 1027, 'prova': 1028, 'premium': 1029, 'repar': 1030, 'notebook': 1031, 'compromet': 1032, 'barr': 1033, 'venden': 1034, 'vis': 1035, 'brev': 1036, 'pai': 1037, 'avanc': 1038, 'tax': 1039, 'term': 1040, 'robust': 1041, 'vibr': 1042, 'afinal': 1043, 'playstor': 1044, 'mess': 1045, 'delay': 1046, 'snapdragon': 1047, 'comunic': 1048, 'mech': 1049, 'relev': 1050, 'cidad': 1051, 'plug': 1052, 'probl': 1053, 'kkkk': 1054, 'dir': 1055, 'inst': 1056, 'particul': 1057, 'propost': 1058, 'ola': 1059, 'lerd': 1060, 'person': 1061, 'inter': 1062, 'irrit': 1063, 'nf': 1064, 'popul': 1065, 'are': 1066, 'enrol': 1067, 'mercad': 1068, 'promoc': 1069, 'distorc': 1070, 'ide': 1071, 'infravermelh': 1072, 'necessit': 1073, 'salv': 1074, 'situ': 1075, 'turb': 1076, 'chinel': 1077, 'b': 1078, 'ded': 1079, 'f': 1080, 'mor': 1081, 'sinton': 1082, 'odi': 1083, 'comp': 1084, 'band': 1085, 'id': 1086, 'consol': 1087, 'bloquei': 1088, 'acert': 1089, 'morr': 1090, 'extr': 1091, 'servic': 1092, 'dig': 1093, 'daqu': 1094, 'descrit': 1095, 'result': 1096, 'evit': 1097, 'pront': 1098, 'vind': 1099, 'suav': 1100, 'procon': 1101, 'dual': 1102, 'luminos': 1103, 'condiz': 1104, 'ar': 1105, 'proteg': 1106, 'you': 1107, 'movel': 1108, 'cant': 1109, 'fre': 1110, 'solicit': 1111, 'junh': 1112, 'black': 1113, 'desbloqu': 1114, 'estend': 1115, 'julh': 1116, 'recarreg': 1117, 'corr': 1118, 'mercadolivr': 1119, 'positiv': 1120, 'alex': 1121, 'confirm': 1122, 'este': 1123, 'and': 1124, 'fei': 1125, 'correi': 1126, 'pin': 1127, 'gran': 1128, 'transtorn': 1129, 'va': 1130, 'descart': 1131, 'profund': 1132, 'relativ': 1133, 'monstr': 1134, 'larg': 1135, 'sena': 1136, 'les': 1137, 'novembr': 1138, 'falsific': 1139, 'funco': 1140, 'plen': 1141, 'l': 1142, 'refer': 1143, 'toshib': 1144, 'portugu': 1145, 'clon': 1146, 'seil': 1147, 'ambos': 1148, 'mov': 1149, 'ros': 1150, 'requisit': 1151, 'fir': 1152, 'cron': 1153, 'in': 1154, 'anatel': 1155, 'ultrapass': 1156, 'magic': 1157, 'diminu': 1158, 'registr': 1159, 'cond': 1160, 'galh': 1161, 'ferrament': 1162, 'empr': 1163, 'definitiv': 1164, 'cair': 1165, 'launch': 1166, 'proporc': 1167, 'ced': 1168, 'tim': 1169, 'sol': 1170, 'recondicion': 1171, 'zap': 1172, 'solucion': 1173, 'gross': 1174, 'altur': 1175, 'ont': 1176, 'o': 1177, 'vergonh': 1178, 'rom': 1179, 'manutenc': 1180, 'dai': 1181, 'inov': 1182, 'ora': 1183, 'zoom': 1184, 'facebook': 1185, 'conec': 1186, 'clic': 1187, 'pouqu': 1188, 'painel': 1189, 'brind': 1190, 'ali': 1191, 'xr': 1192, 'fraq': 1193, 'ferr': 1194, 'rsr': 1195, 'transpar': 1196, 'post': 1197, 'que': 1198, 'period': 1199, 'icon': 1200, 'compon': 1201, 'sequ': 1202, 'experienc': 1203, 'email': 1204, 'conteud': 1205, 'mac': 1206, 'ruin': 1207, 'dorm': 1208, 'present': 1209, 'impact': 1210, 'entant': 1211, 'mobil': 1212, 'melh': 1213, 'tamp': 1214, 'friday': 1215, 'inutel': 1216, 'ex': 1217, 'fix': 1218, 'alert': 1219, 'download': 1220, 'ofic': 1221, 'cit': 1222, 'recarg': 1223, 'separ': 1224, 'encant': 1225, 'centr': 1226, 'alegr': 1227, 'esbranquic': 1228, 'acend': 1229, 'escorreg': 1230, 'rar': 1231, 'w': 1232, 'veloz': 1233, 'desinstal': 1234, 'tranc': 1235, 'bloqu': 1236, 'desapont': 1237, 'dobr': 1238, 'amplific': 1239, 'essenc': 1240, 'esta': 1241, 'arc': 1242, 'cotidi': 1243, 'son': 1244, 'ampl': 1245, 'pendriv': 1246, 'prov': 1247, 'radi': 1248, 'lenov': 1249, 'namor': 1250, 'mort': 1251, 'oi': 1252, 'ment': 1253, 'aproximad': 1254, 'ler': 1255, 'ind': 1256, 'plataform': 1257, 'cadastr': 1258, 'recepc': 1259, 'amarg': 1260, 'firm': 1261, 'decepca': 1262, 'vier': 1263, 'queix': 1264, 'manha': 1265, 'reproduz': 1266, 'amarel': 1267, 'troqu': 1268, 'agud': 1269, 'a': 1270, 'crit': 1271, 'pais': 1272, 'lantern': 1273, 'adeu': 1274, 'inclu': 1275, 'contud': 1276, 'parab': 1277, 'viol': 1278, 'fur': 1279, 'font': 1280, 'fornec': 1281, 'av': 1282, 'dolby': 1283, 'estress': 1284, 'reduz': 1285, 'diar': 1286, 'ip': 1287, 'atalh': 1288, 'destrav': 1289, 'gpu': 1290, 'v': 1291, 'sac': 1292, 'optic': 1293, 'descrev': 1294, 'silicon': 1295, 'experiment': 1296, 'efetu': 1297, 'necessar': 1298, 'sonh': 1299, 'agost': 1300, 'setembr': 1301, 'le': 1302, 'novidad': 1303, 'culp': 1304, 'fass': 1305, 'domin': 1306, 'dit': 1307, 'cell': 1308, 'satisfaz': 1309, 'explic': 1310, 'famil': 1311, 'dispens': 1312, 'possi': 1313, 'aca': 1314, 'paralel': 1315, 'rca': 1316, 'escrev': 1317, 'recoment': 1318, 'screen': 1319, 'idiom': 1320, 'telecin': 1321, 'quadr': 1322, 'irm': 1323, 'etern': 1324, 'emit': 1325, 'lgk': 1326, 'agend': 1327, 'codig': 1328, 'sincron': 1329, 'alter': 1330, 'afirm': 1331, 'desist': 1332, 'nd': 1333, 'transmit': 1334, 'asphalt': 1335, 'negoci': 1336, 'amo': 1337, 'cod': 1338, 'azar': 1339, 'mb': 1340, 'confianc': 1341, 'dp': 1342, 'shot': 1343, 'blu': 1344, 'quil': 1345, 'desvant': 1346, 'desativ': 1347, 'pox': 1348, 'horizont': 1349, 'desatu': 1350, 'terr': 1351, 'possui': 1352, 'mia': 1353, 'fast': 1354, 'danific': 1355, 'benef': 1356, 'onlin': 1357, 'agradec': 1358, 'dist': 1359, 'fullhd': 1360, 'far': 1361, 'angul': 1362, 'modific': 1363, 'link': 1364, 'bomb': 1365, 'combin': 1366, 'aul': 1367, 'enta': 1368, 'retrat': 1369, 'expand': 1370, 'bandej': 1371, 'dav': 1372, 'adic': 1373, 'tvbox': 1374, 'grat': 1375, 'migr': 1376, 'atra': 1377, 'conf': 1378, 'surpres': 1379, 'comentari': 1380, 'embac': 1381, 'saf': 1382, 'pagin': 1383, 'enderec': 1384, 'androidtv': 1385, 'magnif': 1386, 'dol': 1387, 'forc': 1388, 'obje': 1389, 'xaiom': 1390, 'best': 1391, 'oportun': 1392, 'simultane': 1393, 'resoluca': 1394, 'alcanc': 1395, 'embal': 1396, 'excet': 1397, 'viu': 1398, 'dour': 1399, 'adulter': 1400, 'orrivel': 1401, 'parc': 1402, 'col': 1403, 'cha': 1404, 'diari': 1405, 'proposit': 1406, 'desnecess': 1407, 'fuj': 1408, 'exager': 1409, 'qdo': 1410, 'mail': 1411, 'bas': 1412, 'impossibilit': 1413, 'mhz': 1414, 'obedec': 1415, 'instantane': 1416, 'ha': 1417, 'convers': 1418, 'mentir': 1419, 'justic': 1420, 'chi': 1421, 'fever': 1422, 'paragu': 1423, 'backlight': 1424, 'lament': 1425, 'estil': 1426, 'sogr': 1427, 'crianc': 1428, 'molh': 1429, 'ident': 1430, 'inve': 1431, 'up': 1432, 'ambilight': 1433, 'barulh': 1434, 'chines': 1435, 'respons': 1436, 'estour': 1437, 'preench': 1438, 'componet': 1439, 'arrenped': 1440, 'carr': 1441, 'viaj': 1442, 'destac': 1443, 'set': 1444, 'estuf': 1445, 'descol': 1446, 'xiom': 1447, 'soundb': 1448, 'debaix': 1449, 'intermediari': 1450, 'abril': 1451, 'upgrad': 1452, 'usou': 1453, 'lag': 1454, 'decent': 1455, 'cort': 1456, 'poder': 1457, 'playstation': 1458, 'esport': 1459, 'gar': 1460, 'window': 1461, 'constat': 1462, 'cen': 1463, 'avi': 1464, 'confus': 1465, 'ouc': 1466, 'story': 1467, 'venc': 1468, 'lot': 1469, 'ench': 1470, 'what': 1471, 'desbloque': 1472, 'built': 1473, 'corp': 1474, 'analis': 1475, 'demand': 1476, 'revend': 1477, 'honest': 1478, 'driv': 1479, 'mm': 1480, 'inclus': 1481, 'chanc': 1482, 'incompar': 1483, 'artific': 1484, 'assistant': 1485, 'cxb': 1486, 'perc': 1487, 'shop': 1488, 'derrep': 1489, 'indign': 1490, 'qe': 1491, 'charm': 1492, 'logic': 1493, 'fantasm': 1494, 'sacan': 1495, 'print': 1496, 'pirat': 1497, 'opinia': 1498, 'ch': 1499, 'surre': 1500, 'recomendadiss': 1501, 'document': 1502, 'vdd': 1503, 'equilibr': 1504, 'predut': 1505, 'inch': 1506, 'kkkkk': 1507, 'bait': 1508, 'salt': 1509, 'prefir': 1510, 'justific': 1511, 'absolut': 1512, 'burocrac': 1513, 'devoluca': 1514, 'apost': 1515, 'firmw': 1516, 'rote': 1517, 'agent': 1518, 'imped': 1519, 'temperat': 1520, 'cat': 1521, 'liqu': 1522, 'algu': 1523, 'phon': 1524, 'desc': 1525, 'simplific': 1526, 'mut': 1527, 'orient': 1528, 'un': 1529, 'ten': 1530, 'consom': 1531, 'estud': 1532, 'desenh': 1533, 'pendur': 1534, 'lav': 1535, 'vertic': 1536, 'rox': 1537, 'especi': 1538, 'insatisf': 1539, 'repos': 1540, 'dupl': 1541, 'escurec': 1542, 'rec': 1543, 'ambas': 1544, 'kkk': 1545, 'inutil': 1546, 'abaf': 1547, 'percept': 1548, 'favorit': 1549, 'desagrad': 1550, 'xaom': 1551, 'dificult': 1552, 'fatur': 1553, 'usabil': 1554, 'credit': 1555, 'prev': 1556, 'tomb': 1557, 'corrig': 1558, 'seg': 1559, 'distribu': 1560, 'jogu': 1561, 'encomend': 1562, 'descas': 1563, 'of': 1564, 'sofistic': 1565, 'suspeit': 1566, 'config': 1567, 'pol': 1568, 'st': 1569, 'aproveit': 1570, 'ea': 1571, 'spotify': 1572, 'qui': 1573, 'qled': 1574, 'troux': 1575, 'dvd': 1576, 'nuv': 1577, 'transport': 1578, 'macr': 1579, 'enxerg': 1580, 'utel': 1581, 'guard': 1582, 'semptcl': 1583, 'daquel': 1584, 'arrisc': 1585, 'semelh': 1586, 'folg': 1587, 'homolog': 1588, 'plut': 1589, 'padra': 1590, 'automatic': 1591, 'encaminh': 1592, 'cast': 1593, 'env': 1594, 'sincroniz': 1595, 'recus': 1596, 'micr': 1597, 'transfer': 1598, 'waz': 1599, 'dessincron': 1600, 'estorn': 1601, 'posicion': 1602, 'atr': 1603, 'atent': 1604, 'variedad': 1605, 'problema': 1606, 'pal': 1607, 'brinc': 1608, 'ruid': 1609, 'compatibil': 1610, 'doid': 1611, 'pot': 1612, 'cach': 1613, 'mudanc': 1614, 'smarth': 1615, 'del': 1616, 'imagen': 1617, 'quent': 1618, 'multimid': 1619, 'ensin': 1620, 'public': 1621, 'obg': 1622, 'motog': 1623, 'nn': 1624, 'estrut': 1625, 'transmiss': 1626, 'bon': 1627, 'critic': 1628, 'abenco': 1629, 'gavet': 1630, 'mulh': 1631, 'intenc': 1632, 'fod': 1633, 'paci': 1634, 'falc': 1635, 'pan': 1636, 'anorm': 1637, 'mam': 1638, 'poe': 1639, 'metr': 1640, 'lastim': 1641, 'pel': 1642, 'edit': 1643, 'facel': 1644, 'recorr': 1645, 'azu': 1646, 'portug': 1647, 'fil': 1648, 'espess': 1649, 'porq': 1650, 'versatil': 1651, 'pocophon': 1652, 'coax': 1653, 'feir': 1654, 'sm': 1655, 'ridicul': 1656, 'fantas': 1657, 'muint': 1658, 'outubr': 1659, 'sensibil': 1660, 'extens': 1661, 'en': 1662, 'fosc': 1663, 'liv': 1664, 'pa': 1665, 'caramb': 1666, 'gir': 1667, 'assust': 1668, 'natal': 1669, 'videogam': 1670, 'corag': 1671, 'ub': 1672, 'reg': 1673, 'ime': 1674, 'dign': 1675, 'invej': 1676, 'endic': 1677, 'tablet': 1678, 'leg': 1679, 'sa': 1680, 'vo': 1681, 'press': 1682, 'bo': 1683, 'infr': 1684, 'estabil': 1685, 'rui': 1686, 'ressarc': 1687, 'inum': 1688, 'sust': 1689, 'pandem': 1690, 'on': 1691, 'kg': 1692, 'milh': 1693, 'ingl': 1694, 'rs': 1695, 'sel': 1696, 'remov': 1697, 'epoc': 1698, 'comprov': 1699, 'octacor': 1700, 'diant': 1701, 'discret': 1702, 'tonal': 1703, 'liter': 1704, 'descont': 1705, 'glas': 1706, 'borr': 1707, 'curv': 1708, 'jan': 1709, 'felic': 1710, 'diferenci': 1711, 'zenu': 1712, 'justif': 1713, 'pest': 1714, 'escond': 1715, 'conclus': 1716, 'drog': 1717, 'idos': 1718, 'meizu': 1719, 'acid': 1720, 'mh': 1721, 'acessi': 1722, 'sucess': 1723, 'consult': 1724, 'directv': 1725, 'urgent': 1726, 'cil': 1727, 'comport': 1728, 'lei': 1729, 'abri': 1730, 'fog': 1731, 'gener': 1732, 'encost': 1733, 'ating': 1734, 'configuraco': 1735, 'busq': 1736, 'carc': 1737, 'suj': 1738, 'cx': 1739, 'liberdad': 1740, 'desconfi': 1741, 'gest': 1742, 'banan': 1743, 'camp': 1744, 'lend': 1745, 'reclamaca': 1746, 'chrom': 1747, 'permanec': 1748, 'imediat': 1749, 'previs': 1750, 'ptv': 1751, 'desing': 1752, 'desfoc': 1753, 'resenh': 1754, 'mau': 1755, 'arroj': 1756, 'satur': 1757, 'equal': 1758, 'prejudic': 1759, 'assit': 1760, 'comod': 1761, 'divid': 1762, 'aff': 1763, 'cent': 1764, 'delig': 1765, 'parrud': 1766, 'estr': 1767, 'vision': 1768, 'interf': 1769, 'trem': 1770, 'repentin': 1771, 'estal': 1772, 'ocult': 1773, 'pref': 1774, 'solic': 1775, 'milagr': 1776, 'frequenc': 1777, 'fenomen': 1778, 'legend': 1779, 'toa': 1780, 'muitooo': 1781, 'huaw': 1782, 'instruc': 1783, 'rgb': 1784, 'projet': 1785, 'ladr': 1786, 'expos': 1787, 'pokemon': 1788, 'tid': 1789, 'deg': 1790, 'incompatibil': 1791, 'tiv': 1792, 'sacrifici': 1793, 'vib': 1794, 'detest': 1795, 'aprove': 1796, 'desculp': 1797, 'opca': 1798, 'insatisfatori': 1799, 'modul': 1800, 'intact': 1801, 'soluca': 1802, 'dificel': 1803, 'possibilit': 1804, 'mad': 1805, 'disc': 1806, 'pux': 1807, 'pior': 1808, 'apll': 1809, 'obt': 1810, 'guent': 1811, 'bbb': 1812, 'arredond': 1813, 'aquem': 1814, 'blackberry': 1815, 'conexa': 1816, 'identific': 1817, 'rua': 1818, 'smarphon': 1819, 'assin': 1820, 'providenci': 1821, 'fundament': 1822, 'perfe': 1823, 'eo': 1824, 'airplay': 1825, 'miracast': 1826, 'rotin': 1827, 'estavel': 1828, 'denov': 1829, 'imers': 1830, 'caminh': 1831, 'assunt': 1832, 'joystick': 1833, 'cunh': 1834, 'mem': 1835, 'acessibil': 1836, 'manuse': 1837, 'watsapp': 1838, 'pedal': 1839, 'execel': 1840, 'do': 1841, 'pop': 1842, 'careg': 1843, 'isol': 1844, 'cll': 1845, 'niss': 1846, 'eficaz': 1847, 'imbat': 1848, 'presente': 1849, 'responsabiliz': 1850, 'viess': 1851, 'filtr': 1852, 'prepar': 1853, 'fe': 1854, 'ignor': 1855, 'qd': 1856, 'san': 1857, 'personal': 1858, 'lebr': 1859, 'question': 1860, 'brav': 1861, 'simplis': 1862, 'brut': 1863, 'execut': 1864, 'preconceit': 1865, 'choqu': 1866, 'bamb': 1867, 'ret': 1868, 'exced': 1869, 'gratil': 1870, 'explor': 1871, 'su': 1872, 'interfer': 1873, 'base': 1874, 'backup': 1875, 'jamal': 1876, 'muuuuit': 1877, 'ral': 1878, 'oit': 1879, 'neg': 1880, 'exteri': 1881, 'economiz': 1882, 'oled': 1883, 'encerr': 1884, 'desabil': 1885, 'prq': 1886, 'proxim': 1887, 'sincer': 1888, 'cpu': 1889, 'rasua': 1890, 'aba': 1891, 'disponibil': 1892, 'gerenc': 1893, 'cri': 1894, 'fug': 1895, 'repent': 1896, 'desaparec': 1897, 'fuc': 1898, 'perfil': 1899, 'coloqu': 1900, 'consagr': 1901, 'mind': 1902, 'rep': 1903, 'tutor': 1904, 'reconect': 1905, 'competi': 1906, 'furt': 1907, 'metal': 1908, 'adicion': 1909, 'gorill': 1910, 'maestr': 1911, 'dispar': 1912, 'boc': 1913, 'arras': 1914, 'autofal': 1915, 'stere': 1916, 'frust': 1917, 'fraud': 1918, 'vlw': 1919, 'ergonom': 1920, 'instabil': 1921, 'u': 1922, 'convenc': 1923, 'imprim': 1924, 'root': 1925, 'restrit': 1926, 'bob': 1927, 'rj': 1928, 'emfim': 1929, 'lux': 1930, 'hs': 1931, 'aceler': 1932, 'confund': 1933, 'alcatel': 1934, 'detect': 1935, 'opco': 1936, 'funca': 1937, 'indi': 1938, 'pretend': 1939, 'the': 1940, 'mass': 1941, 'explod': 1942, 'obtiv': 1943, 'dan': 1944, 'gentil': 1945, 'recon': 1946, 'custoxbenefici': 1947, 'sound': 1948, 'bar': 1949, 'abrac': 1950, 'janel': 1951, 'reflex': 1952, 'selul': 1953, 'salg': 1954, 'ato': 1955, 'ce': 1956, 'maldit': 1957, 'defici': 1958, 'adquer': 1959, 'congel': 1960, 'disponibiliz': 1961, 'mantem': 1962, 'arepend': 1963, 'arrisq': 1964, 'alumini': 1965, 'notch': 1966, 'instant': 1967, 'xiam': 1968, 'aproxim': 1969, 'redond': 1970, 'soberb': 1971, 'framerat': 1972, 'mencion': 1973, 'nan': 1974, 'sleep': 1975, 'extraordin': 1976, 'edg': 1977, 'motor': 1978, 'eran': 1979, 'ord': 1980, 'sbt': 1981, 'esbarr': 1982, 'provid': 1983, 'blz': 1984, 'tda': 1985, 'compet': 1986, 'xing': 1987, 'ling': 1988, 'aco': 1989, 'tac': 1990, 'manej': 1991, 'equilibri': 1992, 'comerc': 1993, 'assalt': 1994, 'clean': 1995, 'cost': 1996, 'record': 1997, 'ghost': 1998, 'mha': 1999, 'lib': 2000, 'restaur': 2001, 'ngm': 2002, 'madrug': 2003, 'sem': 2004, 'sintoniz': 2005, 'soneg': 2006, 'versa': 2007, 'map': 2008, 'flat': 2009, 'viru': 2010, 'escorregadi': 2011, 'text': 2012, 'eletrodomes': 2013, 'bota': 2014, 'univers': 2015, 'hibr': 2016, 'ninh': 2017, 'call': 2018, 'duty': 2019, 'nei': 2020, 'vacil': 2021, 'rang': 2022, 'idiot': 2023, 'xbox': 2024, 'ap': 2025, 'ei': 2026, 'entretant': 2027, 'ra': 2028, 'conver': 2029, 'qualcomm': 2030, 'surg': 2031, 'fascin': 2032, 'demonstr': 2033, 'desabon': 2034, 'watt': 2035, 'ves': 2036, 'noc': 2037, 'retenc': 2038, 'carta': 2039, 'acas': 2040, 'maravill': 2041, 'topp': 2042, 'fm': 2043, 'stre': 2044, 'rural': 2045, 'roc': 2046, 'aid': 2047, 'rapaz': 2048, 'compartilh': 2049, 'classific': 2050, 'surround': 2051, 'pontu': 2052, 'orc': 2053, 'surp': 2054, 'bendit': 2055, 'idlus': 2056, 'maravilhosaaaaa': 2057, 'divulg': 2058, 'levant': 2059, 'gerenci': 2060, 'quad': 2061, 'patch': 2062, 'corrij': 2063, 'anunc': 2064, 'agi': 2065, 'clim': 2066, 'usual': 2067, 'recovery': 2068, 'compati': 2069, 'quinz': 2070, 'tve': 2071, 'resfr': 2072, 'acv': 2073, 'conzeg': 2074, 'memoral': 2075, 'possil': 2076, 'desepcion': 2077, 'simbol': 2078, 'concegu': 2079, 'sutil': 2080, 'qnd': 2081, 'moviment': 2082, 'bloc': 2083, 'pacot': 2084, 'fit': 2085, 'amazom': 2086, 'famili': 2087, 'cem': 2088, 'rob': 2089, 'profes': 2090, 'entreten': 2091, 'esteri': 2092, 'apliq': 2093, 'esclarec': 2094, 'gat': 2095, 'descontrol': 2096, 'desnecessar': 2097, 'duplic': 2098, 'fhd': 2099, 'flix': 2100, 'cans': 2101, 'rum': 2102, 'gigantesc': 2103, 'portatil': 2104, 'ju': 2105, 'qulidad': 2106, 'plasm': 2107, 'calcul': 2108, 'extorn': 2109, 'ressalt': 2110, 'descans': 2111, 'resid': 2112, 'tripl': 2113, 'grad': 2114, 'ilusa': 2115, 'mir': 2116, 'cient': 2117, 'cliqu': 2118, 'lat': 2119, 'chic': 2120, 'ceg': 2121, 'gr': 2122, 'publ': 2123, 'caind': 2124, 'rot': 2125, 'admir': 2126, 'grit': 2127, 'mamut': 2128, 'suger': 2129, 'dezembr': 2130, 'relig': 2131, 'by': 2132, 'aresent': 2133, 'self': 2134, 'crom': 2135, 'analog': 2136, 'ethernet': 2137, 'esgot': 2138, 'tizen': 2139, 'cobert': 2140, 'opcion': 2141, 'tecnic': 2142, 'umidad': 2143, 'logotip': 2144, 'mostru': 2145, 'conclu': 2146, 'parabol': 2147, 'rastre': 2148, 'dren': 2149, 'milit': 2150, 'met': 2151, 'organiz': 2152, 'ameii': 2153, 'otima': 2154, 'high': 2155, 'redim': 2156, 'per': 2157, 'gg': 2158, 'ecel': 2159, 'louc': 2160, 'con': 2161, 'boom': 2162, 'degrad': 2163, 'snap': 2164, 'reform': 2165, 'supreend': 2166, 'europ': 2167, 'prejudiqu': 2168, 'palet': 2169, 'achat': 2170, 'maca': 2171, 'produ': 2172, 'daquil': 2173, 'atravez': 2174, 'carl': 2175, 'gcan': 2176, 'vga': 2177, 'rastr': 2178, 'menin': 2179, 'xs': 2180, 'concorrenc': 2181, 'aoc': 2182, 'ca': 2183, 'irrespons': 2184, 'aond': 2185, 'inser': 2186, 'respald': 2187, 'pov': 2188, 'pint': 2189, 'clmpr': 2190, 'premi': 2191, 'orelh': 2192, 'comerci': 2193, 'efet': 2194, 'simplic': 2195, 'desfrut': 2196, 'produz': 2197, 'habit': 2198, 'varil': 2199, 'ascess': 2200, 'elev': 2201, 'afim': 2202, 'ff': 2203, 'intermediar': 2204, 'ponder': 2205, 'enfrent': 2206, 'ric': 2207, 'bad': 2208, 'youtuberzin': 2209, 'blooming': 2210, 'substitu': 2211, 'habil': 2212, 'slot': 2213, 'lte': 2214, 'complex': 2215, 'nerv': 2216, 'estetic': 2217, 'nescess': 2218, 'intuit': 2219, 'insastifeit': 2220, 'kid': 2221, 'familiar': 2222, 'qto': 2223, 'segment': 2224, 'personaliz': 2225, 'descasc': 2226, 'fzr': 2227, 'inven': 2228, 'atenci': 2229, 'expet': 2230, 'ming': 2231, 'superaquec': 2232, 'contorn': 2233, 'insegur': 2234, 'click': 2235, 'megapixel': 2236, 'sastifeit': 2237, 'rai': 2238, 'linux': 2239, 'thinq': 2240, 'resistenc': 2241, 'desembols': 2242, 'maquin': 2243, 'pontual': 2244, 'extend': 2245, 'mta': 2246, 'avo': 2247, 'compl': 2248, 'sinon': 2249, 'distanc': 2250, 'informaca': 2251, 'smartfon': 2252, 'celu': 2253, 'divin': 2254, 'exclu': 2255, 'prior': 2256, 'shopping': 2257, 'manutenca': 2258, 'cehg': 2259, 'moderad': 2260, 'signif': 2261, 'camer': 2262, 'palm': 2263, 'evoluc': 2264, 'baind': 2265, 'ass': 2266, 'cult': 2267, 'standby': 2268, 'apont': 2269, 'express': 2270, 'mous': 2271, 'ess': 2272, 'agind': 2273, 'ofert': 2274, 'logis': 2275, 'destro': 2276, 'gm': 2277, 'apk': 2278, 'sof': 2279, 'fas': 2280, 'natur': 2281, 'atualizaca': 2282, 'nun': 2283, 'rezet': 2284, 'minim': 2285, 'prote': 2286, 'recomenda': 2287, 'tvs': 2288, 'antutu': 2289, 'omit': 2290, 'opn': 2291, 'burr': 2292, 'determin': 2293, 'foguet': 2294, 'questa': 2295, 'debadroid': 2296, 'acrescent': 2297, 'content': 2298, 'emul': 2299, 'mon': 2300, 'flym': 2301, 'deposit': 2302, 'phillip': 2303, 'tdo': 2304, 'chov': 2305, 'atenca': 2306, 'funcin': 2307, 'sb': 2308, 'crist': 2309, 'obrg': 2310, 'liber': 2311, 'custom': 2312, 'ilud': 2313, 'gargal': 2314, 'rend': 2315, 'product': 2316, 'mak': 2317, 'contem': 2318, 'envelop': 2319, 'separad': 2320, 'invist': 2321, 'rm': 2322, 'formid': 2323, 'aleat': 2324, 'animal': 2325, 'expl': 2326, 'comet': 2327, 'misteri': 2328, 'smat': 2329, 'muitooooo': 2330, 'apres': 2331, 'agreg': 2332, 'requm': 2333, 'meism': 2334, 'pesaz': 2335, 'ese': 2336, 'brows': 2337, 'americ': 2338, 'invi': 2339, 'ama': 2340, 'nect': 2341, 'revoluc': 2342, 'repit': 2343, 'descomplic': 2344, 'burocra': 2345, 'assu': 2346, 'execuc': 2347, 'hard': 2348, 'sugir': 2349, 'decepicion': 2350, 'last': 2351, 'tinh': 2352, 'pocket': 2353, 'crunchyroll': 2354, 'prime': 2355, 'wireles': 2356, 'gu': 2357, 'webfon': 2358, 'dimension': 2359, 'gold': 2360, 'bluetho': 2361, 'panasonic': 2362, 'perturb': 2363, 'besabaf': 2364, 'cnpj': 2365, 'don': 2366, 'espert': 2367, 'boi': 2368, 'inutiliz': 2369, 'bank': 2370, 'arm': 2371, 'cortex': 2372, 'androd': 2373, 'descrica': 2374, 'gen': 2375, 'slim': 2376, 'contin': 2377, 'embaix': 2378, 'descepcion': 2379, 'inexist': 2380, 'chromecat': 2381, 'rfconhec': 2382, 'desembal': 2383, 'dispo': 2384, 'seguint': 2385, 'aninci': 2386, 'pesc': 2387, 'edic': 2388, 'exagerad': 2389, 'dock': 2390, 'lum': 2391, 'lia': 2392, 'desonest': 2393, 'bolet': 2394, 'fdp': 2395, 'vincul': 2396, 'esforc': 2397, 'locidad': 2398, 'compart': 2399, 'consid': 2400, 'aniversari': 2401, 'declar': 2402, 'oh': 2403, 'exib': 2404, 'statu': 2405, 'offic': 2406, 'indiscut': 2407, 'sobrepos': 2408, 'todav': 2409, 'kkkkkk': 2410, 'imaj': 2411, 'equipar': 2412, 'destin': 2413, 'espanhol': 2414, 'pdf': 2415, 'cav': 2416, 'bah': 2417, 'sob': 2418, 'yutub': 2419, 'origin': 2420, 'ligaco': 2421, 'tlc': 2422, 'perdeit': 2423, 'swm': 2424, 'portabil': 2425, 'comor': 2426, 'mold': 2427, 'whatzap': 2428, 'finaliz': 2429, 'chuvisc': 2430, 'negr': 2431, 'topppp': 2432, 'condico': 2433, 'dis': 2434, 'resolver': 2435, 'miband': 2436, 'hahah': 2437, 'imens': 2438, 'desenpenh': 2439, 'mescl': 2440, 'educ': 2441, 'estreit': 2442, 'excelent': 2443, 'slow': 2444, 'motion': 2445, 'ferrar': 2446, 'conecc': 2447, 'configuraca': 2448, 'prai': 2449, 'flex': 2450, 'mpx': 2451, 'sosseg': 2452, 'bund': 2453, 'but': 2454, 'sugest': 2455, 'api': 2456, 'danif': 2457, 'desqualif': 2458, 'arrebent': 2459, 'entrg': 2460, 'receit': 2461, 'ins': 2462, 'watsap': 2463, 'alinh': 2464, 'qq': 2465, 'tmbm': 2466, 'garg': 2467, 'reclamac': 2468, 'refem': 2469, 'rn': 2470, 'akg': 2471, 'as': 2472, 'vs': 2473, 'telegr': 2474, 'aprelh': 2475, 'interi': 2476, 'escol': 2477, 'zumb': 2478, 'oscil': 2479, 'fom': 2480, 'air': 2481, 'delic': 2482, 'imp': 2483, 'cal': 2484, 'cebol': 2485, 'caract': 2486, 'delvov': 2487, 'layout': 2488, 'afet': 2489, 'contrari': 2490, 'yt': 2491, 'catalog': 2492, 'humild': 2493, 'micloud': 2494, 'boot': 2495, 'assistent': 2496, 'banh': 2497, 'ste': 2498, 'rasoa': 2499, 'instru': 2500, 'focaliz': 2501, 'focaiz': 2502, 'ima': 2503, 'elimin': 2504, 'opac': 2505, 'hbomax': 2506, 'ocas': 2507, 'desaprov': 2508, 'encarec': 2509, 'quin': 2510, 'incont': 2511, 'saib': 2512, 'coraca': 2513, 'naoooo': 2514, 'lamb': 2515, 'desconfigur': 2516, 'gor': 2517, 'desabilit': 2518, 'crunchroll': 2519, 'acrecent': 2520, 'steri': 2521, 'alias': 2522, 'ous': 2523, 'represent': 2524, 'una': 2525, 'lucr': 2526, 'repet': 2527, 'dec': 2528, 'stand': 2529, 'xeom': 2530, 'plobem': 2531, 'invert': 2532, 'cilindr': 2533, 'concentr': 2534, 'qualific': 2535, 'vint': 2536, 'credenci': 2537, 'tro': 2538, 'refin': 2539, 'atelevisa': 2540, 'comb': 2541, 'fof': 2542, 'ag': 2543, 'visibil': 2544, 'comrp': 2545, 'recep': 2546, 'manc': 2547, 'irrepar': 2548, 'advog': 2549, 'raw': 2550, 'customiz': 2551, 'zen': 2552, 'nda': 2553, 'surr': 2554, 'ultil': 2555, 'inumer': 2556, 'quadcor': 2557, 'tec': 2558, 'duravel': 2559, 'muuuit': 2560, 'uss': 2561, 'bandeij': 2562, 'cb': 2563, 'equival': 2564, 'mui': 2565, 'kingoroot': 2566, 'metod': 2567, 'nen': 2568, 'incrivel': 2569, 'interat': 2570, 'pie': 2571, 'samsug': 2572, 'fand': 2573, 'deficienc': 2574, 'sul': 2575, 'rev': 2576, 'rasg': 2577, 'cer': 2578, 'onevision': 2579, 'diversific': 2580, 'contrat': 2581, 'socorr': 2582, 'combr': 2583, 'desanim': 2584, 'paul': 2585, 'ligaca': 2586, 'amad': 2587, 'altofal': 2588, 'esquerd': 2589, 'enunci': 2590, 'tooop': 2591, 'fiel': 2592, 'sec': 2593, 'arenpend': 2594, 'devov': 2595, 'propag': 2596, 'ful': 2597, 'oudi': 2598, 'compreens': 2599, 'pr': 2600, 'japon': 2601, 'dedic': 2602, 'emis': 2603, 'revel': 2604, 'card': 2605, 'emuit': 2606, 'prens': 2607, 'viag': 2608, 'copr': 2609, 'financ': 2610, 'reconfigur': 2611, 'forum': 2612, 'prolong': 2613, 'excess': 2614, 'ba': 2615, 'vz': 2616, 'toooop': 2617, 'relacion': 2618, 'estiv': 2619, 'encomod': 2620, 'seriedad': 2621, 'campea': 2622, 'rsrsr': 2623, 'caprich': 2624, 'manh': 2625, 'capaz': 2626, 'tort': 2627, 'imx': 2628, 'podcast': 2629, 'enjo': 2630, 'xiaiom': 2631, 'agrada': 2632, 'pt': 2633, 'quarenten': 2634, 'trel': 2635, 'sp': 2636, 'sblsg': 2637, 'aci': 2638, 'defini': 2639, 'julg': 2640, 'ludibri': 2641, 'compadr': 2642, 'posteri': 2643, 'incomplet': 2644, 'recup': 2645, 'exclus': 2646, 'desgost': 2647, 'abus': 2648, 'pobr': 2649, 'sej': 2650, 'muuuuuit': 2651, 'torr': 2652, 'construca': 2653, 'atuall': 2654, 'consequ': 2655, 'fizera': 2656, 'zf': 2657, 'batet': 2658, 'codific': 2659, 'escan': 2660, 'acuc': 2661, 'des': 2662, 'oct': 2663, 'alivi': 2664, 'luiz': 2665, 'vitim': 2666, 'cist': 2667, 'reinstal': 2668, 'naquel': 2669, 'fach': 2670, 'multilas': 2671, 'poqu': 2672, 'obsolet': 2673, 'produr': 2674, 'atitud': 2675, 'demostr': 2676, 'abir': 2677, 'rece': 2678, 'depo': 2679, 'paraguai': 2680, 'habitu': 2681, 'nigu': 2682, 'lindoo': 2683, 'descarta': 2684, 'despoil': 2685, 'denunci': 2686, 'sky': 2687, 'autentic': 2688, 'reproduc': 2689, 'fik': 2690, 'resp': 2691, 'thing': 2692, 'ref': 2693, 'conv': 2694, 'wid': 2695, 'fest': 2696, 'grau': 2697, 'reclamaco': 2698, 'assitenc': 2699, 'produc': 2700, 'ultim': 2701, 'repux': 2702, 'fucion': 2703, 'desproteg': 2704, 'isop': 2705, 'tang': 2706, 'barbe': 2707, 'decis': 2708, 'conden': 2709, 'replet': 2710, 'cmg': 2711, 'incid': 2712, 'geh': 2713, 'apel': 2714, 'enrosc': 2715, 'impeca': 2716, 'desmont': 2717, 'sombre': 2718, 'na': 2719, 'discrimin': 2720, 'calot': 2721, 'resping': 2722, 'mmt': 2723, 'dicc': 2724, 'pechinch': 2725, 'unid': 2726, 'conpr': 2727, 'adpat': 2728, 'be': 2729, 'emparelh': 2730, 'trans': 2731, 'pocofon': 2732, 'esto': 2733, 'sait': 2734, 'bao': 2735, 'disponi': 2736, 'veiu': 2737, 'grup': 2738, 'ceul': 2739, 'pilantr': 2740, 'rol': 2741, 'anot': 2742, 'cpf': 2743, 'inseguranc': 2744, 'apt': 2745, 'indiq': 2746, 'dead': 2747, 'imprecis': 2748, 'evangel': 2749, 'teach': 2750, 'remet': 2751, 'te': 2752, 'neh': 2753, 'pertenc': 2754, 'xia': 2755, 'expec': 2756, 'amp': 2757, 'altiss': 2758, 'att': 2759, 'folh': 2760, 'twitt': 2761, 'defas': 2762, 'inimig': 2763, 'bec': 2764, 'galax': 2765, 'discr': 2766, 'muito': 2767, 'horivel': 2768, 'charg': 2769, 'headset': 2770, 'equaliz': 2771, 'equsliz': 2772, 'bee': 2773, 'apropri': 2774, 'devag': 2775, 'asistenc': 2776, 'monent': 2777, 'inconveni': 2778, 'emborrach': 2779, 'microsd': 2780, 'revolt': 2781, 'lasc': 2782, 'anex': 2783, 'estaca': 2784, 'eletr': 2785, 'mnt': 2786, 'pobrem': 2787, 'ipad': 2788, 'derret': 2789, 'histor': 2790, 'bunit': 2791, 'dee': 2792, 'encom': 2793, 'stori': 2794, 'habilit': 2795, 'ovid': 2796, 'laptop': 2797, 'realc': 2798, 'mago': 2799, 'xioam': 2800, 'glac': 2801, 'coro': 2802, 'objet': 2803, 'miser': 2804, 'fan': 2805, 'mph': 2806, 'lesm': 2807, 'recr': 2808, 'atur': 2809, 'fodas': 2810, 'dinam': 2811, 'cabe': 2812, 'qnt': 2813, 'corromp': 2814, 'inativ': 2815, 'usuari': 2816, 'file': 2817, 'restr': 2818, 'len': 2819, 'cuidad': 2820, 'fri': 2821, 'desnecessari': 2822, 'ele': 2823, 'injust': 2824, 'reserv': 2825, 'emerg': 2826, 'compost': 2827, 'guerr': 2828, 'threeshop': 2829, 'aleg': 2830, 'nasc': 2831, 'mediocr': 2832, 'edition': 2833, 'escritori': 2834, 'aconselho': 2835, 'km': 2836, 'compre': 2837, 'recompens': 2838, 'dinhe': 2839, 'operacional': 2840, 'efetiv': 2841, 'put': 2842, 'mol': 2843, 'cupom': 2844, 'obr': 2845, 'input': 2846, 'remend': 2847, 'fragel': 2848, 'armari': 2849, 'cometari': 2850, 'gmail': 2851, 'milha': 2852, 'giroscopi': 2853, 'dragon': 2854, 'copi': 2855, 'past': 2856, 'grud': 2857, 'ban': 2858, 'intenet': 2859, 'notic': 2860, 'afast': 2861, 'capit': 2862, 'eua': 2863, 'desgr': 2864, 'hon': 2865, 'obv': 2866, 'sapat': 2867, 'cresc': 2868, 'impercept': 2869, 'dialog': 2870, 'laz': 2871, 'piscin': 2872, 'wpp': 2873, 'tomand': 2874, 'assinat': 2875, 'fico': 2876, 'plobrem': 2877, 'espant': 2878, 'brab': 2879, 'mbp': 2880, 'lineage': 2881, 'aus': 2882, 'bal': 2883, 'quartz': 2884, 'expans': 2885, 'fus': 2886, 'superfic': 2887, 'rost': 2888, 'embelez': 2889, 'fox': 2890, 'noiv': 2891, 'displ': 2892, 'parelh': 2893, 'now': 2894, 'fortnit': 2895, 'toq': 2896, 'paw': 2897, 'atm': 2898, 'extravi': 2899, 'lm': 2900, 'bwz': 2901, 'lan': 2902, 'fastshop': 2903, 'mo': 2904, 'brobem': 2905, 'descareg': 2906, 'interag': 2907, 'dup': 2908, 'qr': 2909, 'conceitu': 2910, 'banking': 2911, 'curs': 2912, 'ordin': 2913, 'esel': 2914, 'comenrari': 2915, 'bm': 2916, 'ameiii': 2917, 'chou': 2918, 'benfici': 2919, 'alarm': 2920, 'expost': 2921, 'thil': 2922, 'recommend': 2923, 'login': 2924, 'calend': 2925, 'lamin': 2926, 'gmt': 2927, 'classif': 2928, 'atel': 2929, 'aces': 2930, 'vazi': 2931, 'topz': 2932, 'modest': 2933, 'atribu': 2934, 'repond': 2935, 'lez': 2936, 'desfoqu': 2937, 'bomm': 2938, 'brig': 2939, 'cheir': 2940, 'marq': 2941, 'quadrilh': 2942, 'dm': 2943, 'paus': 2944, 'comrc': 2945, 'mebrin': 2946, 'ameeeeee': 2947, 'carcac': 2948, 'quadrupl': 2949, 'ppi': 2950, 'considera': 2951, 'propriedad': 2952, 'sobress': 2953, 'desan': 2954, 'muiit': 2955, 'liga': 2956, 'gradu': 2957, 'conserv': 2958, 'thouch': 2959, 'frustraca': 2960, 'sensanc': 2961, 'compreend': 2962, 'nat': 2963, 'recomendadissimoooooooo': 2964, 'flech': 2965, 'selec': 2966, 'beliss': 2967, 'giroscop': 2968, 'multipl': 2969, 'apanh': 2970, 'mate': 2971, 'ng': 2972, 'jesu': 2973, 'premiss': 2974, 'primevide': 2975, 'hhb': 2976, 'delvolv': 2977, 'ping': 2978, 'pacienc': 2979, 'costat': 2980, 'maisomen': 2981, 'vac': 2982, 'empenh': 2983, 'devid': 2984, 'diagnostic': 2985, 'simpris': 2986, 'funcon': 2987, 'ds': 2988, 'lightning': 2989, 'balance': 2990, 'autist': 2991, 'quet': 2992, 'watsp': 2993, 'acumul': 2994, 'predilet': 2995, 'prazer': 2996, 'empecilh': 2997, 'ci': 2998, 'redicul': 2999, 'decod': 3000, 'pedr': 3001, 'sk': 3002, 'bonu': 3003, 'fu': 3004, 'comes': 3005, 'conguit': 3006, 'chot': 3007, 'nai': 3008, 'salm': 3009, 'nud': 3010, 'cabul': 3011, 'dslr': 3012, 'mach': 3013, 'sobrepo': 3014, 'got': 3015, 'vended': 3016, 'decad': 3017, 'dumb': 3018, 'gui': 3019, 'incansa': 3020, 'proporcion': 3021, 'eatrel': 3022, 'benifici': 3023, 'desap': 3024, 'cseri': 3025, 'compo': 3026, 'conglomer': 3027, 'elm': 3028, 'jose': 3029, 'neglig': 3030, 'reflit': 3031, 'tactil': 3032, 'muitoo': 3033, 'providenc': 3034, 'aguardd': 3035, 'zon': 3036, 'firw': 3037, 'for': 3038, 'wattsap': 3039, 'neon': 3040, 'ebaz': 3041, 'mg': 3042, 'velul': 3043, 'fiinc': 3044, 'teva': 3045, 'voo': 3046, 'intervenc': 3047, 'aprent': 3048, 'deslic': 3049, 'genshin': 3050, 'proveit': 3051, 'beste': 3052, 'dex': 3053, 'continuum': 3054, 'satisfaca': 3055, 'boto': 3056, 'kk': 3057, 'procedenciaduv': 3058, 'demaisss': 3059, 'gameplay': 3060, 'pla': 3061, 'acerc': 3062, 'ncom': 3063, 'vair': 3064, 'whastsapp': 3065, 'protect': 3066, 'obvi': 3067, 'promess': 3068, 'megamut': 3069, 'dum': 3070, 'jur': 3071, 'aredond': 3072, 'ooo': 3073, 'ternorn': 3074, 'neflix': 3075, 'estrei': 3076, 'mostruari': 3077, 'etquet': 3078, 'resec': 3079, 'xat': 3080, 'fincion': 3081, 'obqu': 3082, 'aperfeico': 3083, 'suprend': 3084, 'eexcel': 3085, 'oim': 3086, 'patrab': 3087, 'irregul': 3088, 'penfeit': 3089, 'esbarra': 3090, 'bleck': 3091, 'exmpl': 3092, 'futebol': 3093, 'foqu': 3094, 'almoc': 3095, 'antiviru': 3096, 'compromiss': 3097, 'parafud': 3098, 'imprec': 3099, 'orivel': 3100, 'atelefon': 3101, 'verwhatsap': 3102, 'adequad': 3103, 'empunhad': 3104, 'tren': 3105, 'misericord': 3106, 'pair': 3107, 'zilk': 3108, 'schuch': 3109, 'bcu': 3110, 'docx': 3111, 'onibu': 3112, 'esporadic': 3113, 'retem': 3114, 'embasbac': 3115, 'tow': 3116, 'ocorrenciapreocup': 3117, 'encherg': 3118, 'vx': 3119, 'afs': 3120, 'condut': 3121, 'oxidaca': 3122, 'manuel': 3123, 'perg': 3124, 'buch': 3125, 'relatoab': 3126, 'goata': 3127, 'aiind': 3128, 'lup': 3129, 'cian': 3130, 'bommm': 3131, 'otimaa': 3132, 'indicooo': 3133, 'planta': 3134, 'espalh': 3135, 'capim': 3136, 'instabiliz': 3137, 'desmotiv': 3138, 'trocafon': 3139, 'preferenc': 3140, 'sansumg': 3141, 'robo': 3142, 'salient': 3143, 'disser': 3144, 'acotec': 3145, 'roup': 3146, 'kkkkkkkkkk': 3147, 'nerflix': 3148, 'serr': 3149, 'execenl': 3150, 'orefir': 3151, 'completiss': 3152, 'skill': 3153, 'ech': 3154, 'dot': 3155, 'emoc': 3156, 'aborrec': 3157, 'miax': 3158, 'surprend': 3159, 'nescessidas': 3160, 'laps': 3161, 'evid': 3162, 'was': 3163, 'lockdowm': 3164, 'moral': 3165, 'conentari': 3166, 'estrid': 3167, 'event': 3168, 'evoluca': 3169, 'contribu': 3170, 'qqr': 3171, 'muitoooo': 3172, 'satifaz': 3173, 'exigenc': 3174, 'well': 3175, 'ye': 3176, 'actually': 3177, 'amelho': 3178, 'anoest': 3179, 'esplend': 3180, 'ponh': 3181, 'hardcor': 3182, 'refreshrat': 3183, 'charging': 3184, 'imtemd': 3185, 'desolus': 3186, 'pelicol': 3187, 'ici': 3188, 'fs': 3189, 'anatom': 3190, 'stock': 3191, 'compren': 3192, 'acxab': 3193, 'dualapp': 3194, 'estad': 3195, 'jogabil': 3196, 'feedback': 3197, 'spc': 3198, 'xiaominion': 3199, 'muuuuotooo': 3200, 'anoi': 3201, 'encach': 3202, 'ventil': 3203, 'debit': 3204, 'glauc': 3205, 'serafim': 3206, 'bastaaaa': 3207, 'touchscre': 3208, 'redbull': 3209, 'sansug': 3210, 'androidon': 3211, 'tranquilam': 3212, 'racion': 3213, 'fastboot': 3214, 'maa': 3215, 'autoches': 3216, 'usando': 3217, 'equivoc': 3218, 'pedi': 3219, 'buriocrac': 3220, 'abisurd': 3221, 'stick': 3222, 'correca': 3223, 'rem': 3224, 'descarrag': 3225, 'mani': 3226, 'falalv': 3227, 'embaralh': 3228, 'inicial': 3229, 'carrefour': 3230, 'merit': 3231, 'es': 3232, 'lin': 3233, 'rapit': 3234, 'emergenc': 3235, 'decepic': 3236, 'descup': 3237, 'excent': 3238, 'desparafus': 3239, 'flet': 3240, 'reseb': 3241, 'joi': 3242, 'mioj': 3243, 'plagi': 3244, 'amanha': 3245, 'amid': 3246, 'alcatr': 3247, 'piment': 3248, 'manjeric': 3249, 'sals': 3250, 'batat': 3251, 'criat': 3252, 'coret': 3253, 'honestr': 3254, 'djalm': 3255, 'sant': 3256, 'croch': 3257, 'dhcp': 3258, 'otimobcust': 3259, 'rebarb': 3260, 'inf': 3261, 'recumend': 3262, 'hostil': 3263, 'etap': 3264, 'cecul': 3265, 'ligado': 3266, 'fisc': 3267, 'manet': 3268, 'pesuis': 3269, 'tudocelul': 3270, 'cof': 3271, 'cativ': 3272, 'today': 3273, '1': 3274, 'revom': 3275, 'perol': 3276, 'adezej': 3277, 'mas': 3278, 'borrach': 3279, 'rack': 3280, 'au': 3281, 'veden': 3282, 'mum': 3283, 'head': 3284, 'gamepad': 3285, 'amh': 3286, 'vizu': 3287, 'usufru': 3288, 'perdi': 3289, 'isatisfeit': 3290, 'cac': 3291, 'trial': 3292, 'fronti': 3293, 'tad': 3294, 'chor': 3295, 'invent': 3296, 'disn': 3297, 'admit': 3298, 'iamg': 3299, 'raiz': 3300, 'superfici': 3301, 'aparess': 3302, 'ficol': 3303, 'doll': 3304, 'pedem': 3305, 'simplesmemt': 3306, 'coincidenc': 3307, 'semd': 3308, 'imfeliz': 3309, 'lumin': 3310, 'suces': 3311, 'envolv': 3312, 'upfon': 3313, 'tooth': 3314, 'confer': 3315, 'goel': 3316, 'zplay': 3317, 'potenc': 3318, 'convicc': 3319, 'prf': 3320, 'imagim': 3321, 'engol': 3322, 'globolixoplay': 3323, 'capet': 3324, 'promot': 3325, 'extraordinari': 3326, 'exoeriment': 3327, 'aoarelh': 3328, 'opnia': 3329, 'dep': 3330, 'zoon': 3331, 'boost': 3332, 'gadget': 3333, 'viciadiss': 3334, 'deterior': 3335, 'marret': 3336, 'retras': 3337, 'devic': 3338, 'googlestor': 3339, 'spotyfy': 3340, 'kwh': 3341, 'esperanc': 3342, 'aposent': 3343, 'parac': 3344, 'amperi': 3345, 'definica': 3346, 'canalhet': 3347, 'nessec': 3348, 'marketing': 3349, 'inesquec': 3350, 'brinqued': 3351, 'fucional': 3352, 'descu': 3353, 'porret': 3354, 'tchau': 3355, 'msil': 3356, 'descepicion': 3357, 'prodult': 3358, 'convert': 3359, 'desinteress': 3360, 'pate': 3361, 'visa': 3362, 'confec': 3363, 'sos': 3364, 'benjamim': 3365, 'dovoluca': 3366, 'comuniq': 3367, 'taooo': 3368, 'normaliz': 3369, 'disperdici': 3370, 'contrapont': 3371, 'captur': 3372, 'naocompr': 3373, 'xx': 3374, 'ultraj': 3375, 'esmrt': 3376, 'hp': 3377, 'senc': 3378, 'era': 3379, 'amal': 3380, 'formig': 3381, 'fomig': 3382, 'supervi': 3383, 'enxurr': 3384, 'depil': 3385, 'doil': 3386, 'aranh': 3387, 'tik': 3388, 'trad': 3389, 'desacredit': 3390, 'sext': 3391, 'recort': 3392, 'propens': 3393, 'poremmm': 3394, 'vlr': 3395, 'muuuiitttoo': 3396, 'estih': 3397, 'ssensac': 3398, 'execu': 3399, 'confoco': 3400, 'rv': 3401, 'protut': 3402, 'speak': 3403, 'enb': 3404, 'tunh': 3405, 'tol': 3406, 'amper': 3407, 'quev': 3408, 'prossess': 3409, 'detecc': 3410, 'traqu': 3411, 'colet': 3412, 'bab': 3413, 'degr': 3414, 'esquisit': 3415, 'expectati': 3416, 'sdo': 3417, 'netflik': 3418, 'back': 3419, 'manau': 3420, 'doo': 3421, 'momentane': 3422, 'asseci': 3423, 'algun': 3424, 'sastifeitic': 3425, 'acredi': 3426, 'acabement': 3427, 'fum': 3428, 'ultrafin': 3429, 'titaniun': 3430, 'frirul': 3431, 'distint': 3432, 'dinheirt': 3433, 'abandon': 3434, 'lige': 3435, 'surprienden': 3436, 'azuil': 3437, 'xv': 3438, 'vb': 3439, 'cvj': 3440, 'jj': 3441, 'xe': 3442, 'hc': 3443, 'cddsgvjnv': 3444, 'pao': 3445, 'mrd': 3446, 'vom': 3447, 'apeg': 3448, 'insist': 3449, 'intr': 3450, 'auricul': 3451, 'surj': 3452, 'dipl': 3453, 'ninhen': 3454, 'solusa': 3455, 'muiiiit': 3456, 'tiktok': 3457, 'honr': 3458, 'mkv': 3459, 'samsumg': 3460, 'mur': 3461, 'ecra': 3462, 'presum': 3463, 'muiito': 3464, 'mudat': 3465, 'tab': 3466, 'dualsim': 3467, 'miliamp': 3468, 'sftow': 3469, 'deficeienc': 3470, 'pwss': 3471, 'tint': 3472, 'friu': 3473, 'fend': 3474, 'expererienc': 3475, 'indentific': 3476, 'melhr': 3477, 'inconst': 3478, 'aleatori': 3479, 'esps': 3480, 'spen': 3481, 'gostat': 3482, 'exceletn': 3483, 'siti': 3484, 'superfatur': 3485, 'adqu': 3486, 'advinh': 3487, 'euach': 3488, 'yfon': 3489, 'our': 3490, 'pernambuc': 3491, 'acsb': 3492, 'autorizad': 3493, 'ainfotec': 3494, 'probleman': 3495, 'gabinet': 3496, 'kit': 3497, 'jos': 3498, 'elo': 3499, 'bloqued': 3500, 'degeit': 3501, 'dera': 3502, 'globolix': 3503, 'desprepar': 3504, 'merdaaa': 3505, 'traged': 3506, 'fazi': 3507, 'touth': 3508, 'firestick': 3509, 'amanhec': 3510, 'esverde': 3511, 'disfarc': 3512, 'puls': 3513, 'hein': 3514, 'satisfeitism': 3515, 'marr': 3516, 'quaz': 3517, 'perf': 3518, 'bolqu': 3519, 'intreg': 3520, 'esquem': 3521, 'informa': 3522, 'iniguala': 3523, 'independ': 3524, 'roec': 3525, 'dirvers': 3526, 'burn': 3527, 'sald': 3528, 'telefoneest': 3529, 'tives': 3530, 'mediacast': 3531, 'mmmt': 3532, 'condicion': 3533, 'equant': 3534, 'sin': 3535, 'fhlip': 3536, 'salari': 3537, 'zerooo': 3538, 'vh': 3539, 'bolivi': 3540, 'globost': 3541, 'manipul': 3542, 'decodific': 3543, 'elsy': 3544, 'agum': 3545, 'anted': 3546, 'recl': 3547, 'tamnh': 3548, 'trasport': 3549, 'arapend': 3550, 'subsist': 3551, 'apodrec': 3552, 'infern': 3553, 'purist': 3554, 'sard': 3555, 'envelhec': 3556, 'autiss': 3557, 'enquadr': 3558, 'fyt': 3559, 'nessesari': 3560, 'resouv': 3561, 'horrivelll': 3562, 'tabaj': 3563, 'zem': 3564, 'pis': 3565, 'progress': 3566, 'report': 3567, 'coleg': 3568, 'tambe': 3569, 'wat': 3570, 'shap': 3571, 'ru': 3572, 'produd': 3573, 'chiass': 3574, 'desesper': 3575, 'criteri': 3576, 'minor': 3577, 'amass': 3578, 'lindoooooo': 3579, 'aceton': 3580, 'preju': 3581, 'satisfeitor': 3582, 'relatori': 3583, 'duradour': 3584, 'poraqu': 3585, 'coer': 3586, 'discrep': 3587, 'tonh': 3588, 'boicot': 3589, 'rax': 3590, 'body': 3591, 'rati': 3592, 'prosa': 3593, 'negativiz': 3594, 'valent': 3595, 'kry': 3596, 'engenh': 3597, 'agronom': 3598, 'avermelh': 3599, 'sh': 3600, 'ota': 3601, 'utilizaca': 3602, 'sinv': 3603, 'pudess': 3604, 'presenc': 3605, 'arret': 3606, 'despach': 3607, 'atu': 3608, 'autic': 3609, 'fii': 3610, 'ras': 3611, 'gogl': 3612, 'rosc': 3613, 'ui': 3614, 'tital': 3615, 'dispos': 3616, 'midiacast': 3617, 'tdbm': 3618, 'otimooo': 3619, 'coloss': 3620, 'desmerec': 3621, 'estravi': 3622, 'iso': 3623, 'acam': 3624, 'apart': 3625, 'eat': 3626, 'gobl': 3627, 'rei': 3628, 'espequit': 3629, 'prescis': 3630, 'redor': 3631, 'chipset': 3632, 'messeng': 3633, 'arroz': 3634, 'cru': 3635, 'excep': 3636, 'desempelh': 3637, 'custodi': 3638, 'miguel': 3639, \"app'\": 3640, 'probelm': 3641, 'emcant': 3642, 'implant': 3643, 'cotat': 3644, 'espl': 3645, 'falcific': 3646, 'jg': 3647, 'bjo': 3648, 'cub': 3649, 'channel': 3650, 'surpreed': 3651, 'coes': 3652, 'desconforta': 3653, 'galet': 3654, 'quinhet': 3655, 'estabelec': 3656, 'ruimmmm': 3657, 'circul': 3658, 'passaport': 3659, 'soberan': 3660, 'bou': 3661, 'ultiliz': 3662, 'novat': 3663, 'alfabetic': 3664, 'enoorrmm': 3665, 'jaj': 3666, 'aprovadissim': 3667, 'liz': 3668, 'sinplis': 3669, 'saab': 3670, 'rsp': 3671, 'commerc': 3672, 'golh': 3673, 'sip': 3674, 'vulneravel': 3675, 'desfavor': 3676, 'ibop': 3677, 'citonis': 3678, 'mama': 3679, 'polpud': 3680, 'sufoc': 3681, 'karaok': 3682, 'nin': 3683, 'retr': 3684, 'insignific': 3685, 'severin': 3686, 'raqued': 3687, 'mercadopag': 3688, 'proocom': 3689, 'imprens': 3690, 'deca': 3691, 'carec': 3692, 'element': 3693, 'temporar': 3694, 'bai': 3695, 'assegur': 3696, 'sinistr': 3697, 'desbanc': 3698, 'banstat': 3699, 'nostalg': 3700, 'cllr': 3701, 'varej': 3702, 'desconfort': 3703, 'tinha': 3704, 'normal': 3705, 'whattsapp': 3706, 'ven': 3707, 'fikh': 3708, 'desajeit': 3709, 'art': 3710, 'room': 3711, 'torc': 3712, 'capin': 3713, 'aplaus': 3714, 'tomat': 3715, 'apreend': 3716, 'comand': 3717, 'porcel': 3718, 'temt': 3719, 'botao': 3720, 'decorr': 3721, 'percurs': 3722, 'topss': 3723, 'pofqu': 3724, 'estarg': 3725, 'persss': 3726, 'usbc': 3727, 'emoldur': 3728, 'ecos': 3729, 'eco': 3730, 'acident': 3731, 'danifiq': 3732, 'mis': 3733, 'certific': 3734, 'futel': 3735, 'iplon': 3736, 'satisfeitiss': 3737, 'produtocom': 3738, 'frut': 3739, 'delegac': 3740, 'aquari': 3741, 'otic': 3742, 'transf': 3743, 'aproveir': 3744, 'teath': 3745, 'amist': 3746, 'crim': 3747, 'rasur': 3748, 'acinzent': 3749, 'calibr': 3750, 'inoper': 3751, 'esfri': 3752, 'biz': 3753, 'descrisa': 3754, 'fnc': 3755, 'esa': 3756, 'funsa': 3757, 'manusi': 3758, 'mantiv': 3759, 'idr': 3760, 'comemor': 3761, 'alan': 3762, 'infind': 3763, 'harmoniz': 3764, 'malh': 3765, 'jrit': 3766, 'procuc': 3767, 'gravatai': 3768, 'recicl': 3769, 'pesad': 3770, 'delici': 3771, 'netiflix': 3772, 'turbin': 3773, 'suseit': 3774, 'quint': 3775, 'estoubd': 3776, 'superbest': 3777, 'estel': 3778, 'dasboard': 3779, 'recuper': 3780, 'disposica': 3781, 'discord': 3782, 'cobsegu': 3783, 'descontinu': 3784, 'passport': 3785, 'keyon': 3786, 'orruvrl': 3787, 'orrivrl': 3788, 'aval': 3789, 'tens': 3790, 'aprensent': 3791, 'bolh': 3792, 'dieit': 3793, 'conced': 3794, 'decpesion': 3795, 'consist': 3796, 'coincid': 3797, 'subit': 3798, 'decor': 3799, 'casc': 3800, 'ovo': 3801, 'envest': 3802, 'diretori': 3803, 'lacun': 3804, 'cuidados': 3805, 'cag': 3806, 'apenaaa': 3807, 'ultraeconom': 3808, 'traum': 3809, 'exij': 3810, 'purbg': 3811, 'rez': 3812, 'hif': 3813, 'perfomanc': 3814, 'impercecpti': 3815, 'chormecast': 3816, 'churrasc': 3817, 'geit': 3818, 'tci': 3819, 'superrrr': 3820, 'dre': 3821, 'leag': 3822, 'socc': 3823, 'arrisqu': 3824, 'juiz': 3825, 'industr': 3826, 'reput': 3827, 'lagr': 3828, 'maisssss': 3829, 'embas': 3830, 'qualit': 3831, 'gigabyt': 3832, 'dif': 3833, 'qer': 3834, 'percepti': 3835, 'resalt': 3836, 'domal': 3837, 'atebd': 3838, 'uaauu': 3839, 'ara': 3840, 'xiamom': 3841, 'busul': 3842, 'desfaz': 3843, 'losc': 3844, 'zeis': 3845, 'recurc': 3846, 'xiamo': 3847, 'intromet': 3848, 'qualid': 3849, 'blutooth': 3850, 'agarr': 3851, 'vendeded': 3852, 'umidig': 3853, 'supost': 3854, 'referenc': 3855, 'predomin': 3856, 'crop': 3857, 'qoust': 3858, 'nu': 3859, 'fucin': 3860, 'ligac': 3861, 'http': 3862, 'youtu': 3863, 'lpgf': 3864, 'dz': 3865, 'nr': 3866, 'apload': 3867, 'crepuscul': 3868, 'revist': 3869, 'icloud': 3870, 'portatl': 3871, 'someten': 3872, 'afilh': 3873, 'amouuu': 3874, 'saph': 3875, 'clash': 3876, 'royal': 3877, 'aaa': 3878, 'segred': 3879, 'horror': 3880, 'unboxing': 3881, 'wild': 3882, 'rift': 3883, 'visit': 3884, 'maaa': 3885, 'reconfort': 3886, 'cranc': 3887, 'omolog': 3888, 'aparat': 3889, 'togal': 3890, 'vendedro': 3891, 'concord': 3892, 'turv': 3893, 'darkflix': 3894, 'constant': 3895, 'impossi': 3896, 'encantadaaaa': 3897, 'gpst': 3898, 'despoj': 3899, 'dieg': 3900, 'ploblem': 3901, 'daut': 3902, 'rib': 3903, 'chag': 3904, 'ana': 3905, 'luc': 3906, 'primr': 3907, 'aiphon': 3908, 'sintom': 3909, 'blackfrald': 3910, 'mme': 3911, 'respod': 3912, 'cromecast': 3913, 'questo': 3914, 'looping': 3915, 'valeuuu': 3916, 'soh': 3917, 'unh': 3918, 'desloc': 3919, 'cooopre': 3920, 'prep': 3921, 'wasap': 3922, 'iluminaca': 3923, 'reajust': 3924, 'despenh': 3925, 'xaomil': 3926, 'verifiqu': 3927, 'boal': 3928, 'prof': 3929, 'vagabund': 3930, 'pug': 3931, 'inte': 3932, 'etcet': 3933, 'hdmil': 3934, 'insult': 3935, 'lamp': 3936, 'reav': 3937, 'caracteriz': 3938, 'intermit': 3939, 'caim': 3940, 'fad': 3941, 'incompati': 3942, 'blinh': 3943, 'senhor': 3944, 'reabil': 3945, 'gue': 3946, 'verifiq': 3947, 'incorpor': 3948, 'hub': 3949, 'hosped': 3950, 'inexplic': 3951, 'riim': 3952, 'qse': 3953, 'respont': 3954, 'fhilc': 3955, 'qyempwl': 3956, 'zonz': 3957, 'incoveni': 3958, 'lgstor': 3959, 'ki': 3960, 'tell': 3961, 'repod': 3962, 'maluc': 3963, 'impost': 3964, 'agel': 3965, 'agrav': 3966, 'descordenad': 3967, 'funci': 3968, 'impossibil': 3969, 'gob': 3970, 'frem': 3971, 'sarr': 3972, 'nubl': 3973, 'tecm': 3974, 'deseij': 3975, 'ie': 3976, 'jurid': 3977, 'amanh': 3978, 'nescessari': 3979, 'mar': 3980, 'sonor': 3981, 'inquestion': 3982, 'cta': 3983, 'completa': 3984, 'anim': 3985, 'provoc': 3986, 'percepca': 3987, 'desemprenh': 3988, 'cintil': 3989, 'hipnotiz': 3990, 'estilhac': 3991, 'ilh': 3992, 'cayma': 3993, 'cinquent': 3994, 'inmetr': 3995, 'holand': 3996, 'tresmes': 3997, 'instrument': 3998, 'afin': 3999, 'atualment': 4000, 'destad': 4001, 'perform': 4002, 'comunicaca': 4003, 'bitol': 4004, 'osn': 4005, 'trimestr': 4006, 'duraca': 4007, 'concient': 4008, 'dt': 4009, 'tijol': 4010, 'touchscreen': 4011, 'skyp': 4012, 'arrendond': 4013, 'processamet': 4014, 'core': 4015, 'ti': 4016, 'axil': 4017, 'carrg': 4018, 'preformac': 4019, 'aplicaco': 4020, 'paassa': 4021, 'pelomen': 4022, 'fr': 4023, 'siatem': 4024, 'inport': 4025, 'excec': 4026, 'deboch': 4027, 'mesn': 4028, 'oco': 4029, 'trc': 4030, 'consolid': 4031, 'dualshock': 4032, 'insufici': 4033, 'decpsion': 4034, 'yuotub': 4035, 'frufru': 4036, 'esbranquec': 4037, 'dq': 4038, 'vitor': 4039, 'karin': 4040, 'resili': 4041, 'oitm': 4042, 'encard': 4043, 'vacin': 4044, 'ento': 4045, 'furi': 4046, 'dom': 4047, 'ameac': 4048, 'zenfom': 4049, 'improvis': 4050, 'indiguin': 4051, 'pasm': 4052, 'obgd': 4053, 'confia': 4054, 'nav': 4055, 'emperr': 4056, 'mirr': 4057, 'utrapass': 4058, 'sanssung': 4059, 'dispost': 4060, 'jogatin': 4061, 'rg': 4062, 'derespost': 4063, 'oitav': 4064, 'antoni': 4065, 'asuszenfon': 4066, 'fb': 4067, 'apbert': 4068, 'sr': 4069, 'trambic': 4070, 'assitant': 4071, 'human': 4072, 'vinhet': 4073, 'muitofragil': 4074, 'tira': 4075, 'fica': 4076, 'preuc': 4077, 'jm': 4078, 'negativ': 4079, 'xper': 4080, 'xz': 4081, 'bairr': 4082, 'ssiptv': 4083, 'adolesc': 4084, 'obrigatori': 4085, 'terren': 4086, 'conhecidenc': 4087, 'globopay': 4088, 'amazoprim': 4089, 'nso': 4090, 'barrel': 4091, 'jorn': 4092, 'amei': 4093, 'racing': 4094, 'navegaca': 4095, 'protud': 4096, 'garat': 4097, 'precisqr': 4098, 'policarbonat': 4099, 'nillkin': 4100, 'benchmark': 4101, 'pprodut': 4102, 'desgarreg': 4103, 'interval': 4104, 'supriend': 4105, 'descobert': 4106, 'personalis': 4107, 'bluray': 4108, 'surt': 4109, 'vivenci': 4110, 'displey': 4111, 'belem': 4112, 'deslug': 4113, 'frint': 4114, 'multitaref': 4115, 'cdc': 4116, 'caracter': 4117, 'responsabilizado': 4118, 'crient': 4119, 'asist': 4120, 'pas': 4121, 'duficudad': 4122, 'pras': 4123, 'sen': 4124, 'arespeit': 4125, 'olist': 4126, 'mesmo': 4127, 'poucom': 4128, 'muuit': 4129, 'codm': 4130, 'broque': 4131, 'vlog': 4132, 'pression': 4133, 'neum': 4134, 'complicaca': 4135, 'revej': 4136, 'obgaduuu': 4137, 'pred': 4138, 'adivinh': 4139, 'adult': 4140, 'estigm': 4141, 'imprest': 4142, 'engess': 4143, 'videocham': 4144, 'transfe': 4145, 'eal': 4146, 'adequer': 4147, 'nbr': 4148, 'proib': 4149, 'armagen': 4150, 'ham': 4151, \"tv'\": 4152, 'primar': 4153, 'desenvolt': 4154, 'odei': 4155, 'ecist': 4156, 'clouding': 4157, 'cagreg': 4158, 'split': 4159, 'mediatek': 4160, 'exyn': 4161, 'refir': 4162, 'twitch': 4163, 'talecin': 4164, 'dutty': 4165, 'paix': 4166, 'precisa': 4167, 'poracr': 4168, 'panic': 4169, 'fras': 4170, 'zomen': 4171, 'bax': 4172, 'geadec': 4173, 'autofoc': 4174, 'etiquet': 4175, 'reempous': 4176, 'end': 4177, 'goggl': 4178, 'compac': 4179, 'bater': 4180, 'comercial': 4181, 'remont': 4182, 'imformaca': 4183, 'constataca': 4184, 'procedenc': 4185, 'espar': 4186, 'mesiocr': 4187, 'istoe': 4188, 'filip': 4189, 'out': 4190, 'felip': 4191, 'defeif': 4192, 'whif': 4193, 'assessori': 4194, 'chow': 4195, 'pocor': 4196, 'srr': 4197, 'ameiiii': 4198, 'ameiiiiiiii': 4199, 'rda': 4200, 'faid': 4201, 'adivog': 4202, 'inseg': 4203, 'mue': 4204, 'irrelev': 4205, 'redu': 4206, 'reflet': 4207, 'comsig': 4208, 'ks': 4209, 'persist': 4210, 'virtud': 4211, 'mtooo': 4212, 'aprimor': 4213, 'rsrsrsr': 4214, 'desl': 4215, 'nuc': 4216, 'execl': 4217, 'curtr': 4218, 'ouvis': 4219, 'preucup': 4220, 'whatsaaap': 4221, 'caterpill': 4222, 'ema': 4223, 'ader': 4224, 'hist': 4225, 'porr': 4226, 'smarthpon': 4227, 'pim': 4228, 'rma': 4229, 'podr': 4230, 'tout': 4231, 'fala': 4232, 'cop': 4233, 'enqu': 4234, 'mma': 4235, 'nocaut': 4236, 'fond': 4237, 'ss': 4238, 'resumid': 4239, 'qm': 4240, 'deform': 4241, 'poa': 4242, 'restring': 4243, 'phod': 4244, 'sess': 4245, 'aquin': 4246, 'indo': 4247, 'tremul': 4248, 'segmento': 4249, 'afog': 4250, 'pscin': 4251, 'xaiomin': 4252, 'freef': 4253, 'fif': 4254, 'clandestin': 4255, 'flutu': 4256, 'desfeit': 4257, 'pirate': 4258, 'ofens': 4259, 'solftw': 4260, 'alm': 4261, 'compromis': 4262, 'cafe': 4263, 'can': 4264, 'alment': 4265, 'strob': 4266, 'precib': 4267, 'prob': 4268, 'sever': 4269, 'smartmagic': 4270, 'simul': 4271, 'pamp': 4272, 'tecnica': 4273, 'perifer': 4274, 'tont': 4275, 'benefi': 4276, 'pixe': 4277, 'sonz': 4278, 'duzent': 4279, 'trezent': 4280, 'lhos': 4281, 'finalizad': 4282, 'embaladocom': 4283, 'unidad': 4284, 'gas': 4285, 'tsim': 4286, 'bolc': 4287, 'frald': 4288, 'serrilh': 4289, 'titul': 4290, 'internac': 4291, 'enganaca': 4292, 'paralis': 4293, 'meizum': 4294, 'orgulhodesermeizu': 4295, 'terrestr': 4296, 'dimal': 4297, 'barb': 4298, 'comc': 4299, 'notavel': 4300, 'parafernalh': 4301, 'sqn': 4302, 'previsa': 4303, 'durex': 4304, 'froux': 4305, 'admiss': 4306, 'xc': 4307, 'uh': 4308, 'literat': 4309, 'kkkkkkkkkkkkkk': 4310, 'regulament': 4311, 'subr': 4312, 'comt': 4313, 'oficin': 4314, 'validad': 4315, 'telh': 4316, 'colon': 4317, 'voa': 4318, 'chef': 4319, 'firul': 4320, 'ad': 4321, 'er': 4322, 'cetav': 4323, 'naquil': 4324, 'nenhun': 4325, 'deifeit': 4326, 'carant': 4327, 'vr': 4328, 'rival': 4329, 'tebt': 4330, 'devoob': 4331, 'conswgu': 4332, 'abism': 4333, 'oprossec': 4334, 'esnap': 4335, 'desaim': 4336, 'tendinit': 4337, 'cric': 4338, 'descric': 4339, 'watshap': 4340, 'romp': 4341, 'esteriotip': 4342, 'revert': 4343, 'refulg': 4344, 'marsal': 4345, 'vairi': 4346, 'tvsmart': 4347, 'exepc': 4348, 'macet': 4349, 'dens': 4350, 'estrateg': 4351, 'matiz': 4352, 'batero': 4353, 'intermedo': 4354, 'remanufatur': 4355, 'muuuuiiit': 4356, 'bux': 4357, 'escandal': 4358, 'qem': 4359, 'poq': 4360, 'confuguraco': 4361, 'waif': 4362, 'aficion': 4363, 'tralhaaaaaaaaaaa': 4364, 'tralh': 4365, 'monstruari': 4366, 'nomee': 4367, 'renome': 4368, 'aki': 4369, 'decepsion': 4370, 'rencom': 4371, 'ao': 4372, 'tampouc': 4373, 'aptart': 4374, 'qcould': 4375, 'stout': 4376, 'prazoiprodut': 4377, 'identifiq': 4378, 'dinov': 4379, 'parce': 4380, 'sara': 4381, 'minecraft': 4382, 'is': 4383, 'otimo': 4384, 'pnt': 4385, 'filc': 4386, 'padrast': 4387, 'ticktock': 4388, 'ale': 4389, 'relaca': 4390, 'veiocom': 4391, 'fru': 4392, 'mercda': 4393, 'pend': 4394, 'cobranc': 4395, 'oss': 4396, 'sujeit': 4397, 'conseguir': 4398, 'infl': 4399, 'mergulh': 4400, 'inteligenc': 4401, 'articic': 4402, 'destr': 4403, 'jbl': 4404, 'suced': 4405, 'leu': 4406, 'imbati': 4407, 'merrec': 4408, 'flexibil': 4409, 'platinum': 4410, 'rout': 4411, 'arranho': 4412, 'onz': 4413, 'atrev': 4414, 'aenderra': 4415, 'aprezentol': 4416, 'necec': 4417, 'off': 4418, 'nim': 4419, 'noa': 4420, 'recicla': 4421, 'ampli': 4422, 'ceramic': 4423, 'areped': 4424, 'meet': 4425, 'aprrsent': 4426, 'pul': 4427, 'gualidaf': 4428, 'af': 4429, 'inacredit': 4430, 'caqbec': 4431, 'perfeitooooooo': 4432, 'aimd': 4433, 'naum': 4434, 'esmanhec': 4435, 'posica': 4436, 'fazwnd': 4437, 'vezes': 4438, 'semelhanc': 4439, 'conselh': 4440, 'infantil': 4441, 'valh': 4442, 'naovalemetadedoprec': 4443, 'superamoled': 4444, 'entalh': 4445, 'pic': 4446, 'nba': 4447, 'refresh': 4448, 'patrocin': 4449, 'resta': 4450, 'reboot': 4451, 'sobressa': 4452, 'seriss': 4453, 'abt': 4454, 'maz': 4455, 'surpre': 4456, 'adegu': 4457, 'assitsnc': 4458, 'griff': 4459, 'mpixel': 4460, 'pqp': 4461, 'siicon': 4462, 'nod': 4463, 'prefeit': 4464, 'beneficio2': 4465, 'monst': 4466, 'hunt': 4467, 'combat': 4468, 'xd': 4469, 'divert': 4470, 'omen': 4471, 'extraordinar': 4472, 'indatisfeit': 4473, 'apoi': 4474, 'ltd': 4475, 'hacke': 4476, 'desegin': 4477, 'beneficil': 4478, 'bilhet': 4479, 'assimil': 4480, 'perbeb': 4481, 'lut': 4482, 'infeit': 4483, 'gilm': 4484, 'inacessibil': 4485, 'baixiss': 4486, 'capitul': 4487, 'operaca': 4488, 'laud': 4489, 'inrregularid': 4490, 'voic': 4491, 'deez': 4492, 'dazn': 4493, 'qualificaco': 4494, 'decpinion': 4495, 'adoreiii': 4496, 'doming': 4497, 'aumentac': 4498, 'delivery': 4499, 'razua': 4500, 'ytub': 4501, 'desnessecari': 4502, 'lanch': 4503, 'goril': 4504, 'aquarium': 4505, 'dl': 4506, 'profut': 4507, 'fun': 4508, 'entreter': 4509, 'balanc': 4510, 'anez': 4511, 'eugen': 4512, 'albuquerqu': 4513, 'mandat': 4514, 'lacradol': 4515, 'harmoni': 4516, 'clare': 4517, 'aquel': 4518, 'maqui': 4519, 'irrevers': 4520, 'jabirac': 4521, 'soft': 4522, 'mdo': 4523, 'night': 4524, 'otg': 4525, 'exclusiv': 4526, 'fresc': 4527, 'viad': 4528, 'muni': 4529, 'arremess': 4530, 'pranch': 4531, 'interm': 4532, 'alfandeg': 4533, 'conjug': 4534, 'dix': 4535, 'enbac': 4536, 'despenc': 4537, 'divis': 4538, 'indetermin': 4539, 'chib': 4540, 'satusfeit': 4541, 'emiss': 4542, 'exit': 4543, 'aur': 4544, 'pers': 4545, 'oscilnd': 4546, 'perreng': 4547, 'decareg': 4548, 'aprox': 4549, 'qwerty': 4550, 'merdaaaa': 4551, 'burac': 4552, 'inclin': 4553, 'aptoid': 4554, 'escass': 4555, 'desistal': 4556, 'deit': 4557, 'armadilh': 4558, 'oprdutoapresent': 4559, 'regr': 4560, 'joa': 4561, 'desp': 4562, 'exorbit': 4563, 'inesper': 4564, 'rio': 4565, 'parecequ': 4566, 'rug': 4567, 'legivel': 4568, 'muuiittoo': 4569, 'reeembols': 4570, 'htz': 4571, 'flagship': 4572, 'tl': 4573, 'muti': 4574, 'lindiss': 4575, 'cz': 4576, 'trech': 4577, 'ii': 4578, 'harmon': 4579, 'preg': 4580, 'imperfeico': 4581, 'cels': 4582, 'russom': 4583, 'anteces': 4584, 'paradus': 4585, 'grif': 4586, 'manusesr': 4587, 'destrui': 4588, 'poch': 4589, 'felil': 4590, 'foncion': 4591, 'trabal': 4592, 'trbal': 4593, 'vos': 4594, 'tri': 4595, 'jig': 4596, 'coal': 4597, 'dwnlod': 4598, 'verdade': 4599, 'convex': 4600, 'nikon': 4601, 'carrefur': 4602, 'rad': 4603, 'fl': 4604, 'jelly': 4605, 'lembret': 4606, 'eexel': 4607, 'img': 4608, 'atendiment': 4609, 'antend': 4610, 'gib': 4611, 'mog': 4612, 'manutanc': 4613, 'cp': 4614, 'cf': 4615, 'uf': 4616, 'quick': 4617, 'infrared': 4618, 'taa': 4619, 'granul': 4620, 'excepic': 4621, 'peix': 4622, 'cfm': 4623, 'desperceb': 4624, 'odisse': 4625, 'oe': 4626, 'misterios': 4627, 'turbopow': 4628, 'codec': 4629, 'tat': 4630, 'consultori': 4631, 'andorid': 4632, 'xtem': 4633, 'ipeg': 4634, 'bletooth': 4635, 'polic': 4636, 'recib': 4637, 'vaaaa': 4638, 're': 4639, 'compret': 4640, 'queoprodut': 4641, 'no': 4642, 'mandac': 4643, 'clip': 4644, 'zic': 4645, 'imit': 4646, 'impressa': 4647, 'gravaco': 4648, 'ead': 4649, 'fhilipil': 4650, 'baz': 4651, 'netrang': 4652, 'dnd': 4653, 'bet': 4654, 'grant': 4655, 'prac': 4656, 'excelenc': 4657, 'poriss': 4658, 'novel': 4659, 'bababab': 4660, 'caid': 4661, 'anul': 4662, 'ecelent': 4663, 'celulalr': 4664, 'xodo': 4665, 'infin': 4666, 'minot': 4667, 'nebul': 4668, 'rr': 4669, 'msgm': 4670, 'evi': 4671, 'proemin': 4672, 'supirt': 4673, 'nunhum': 4674, 'lixooo': 4675, 'vebd': 4676, 'deton': 4677, 'lui': 4678, 'semm': 4679, 'yotub': 4680, 'qie': 4681, 'impuls': 4682, 'tarraquet': 4683, 'akil': 4684, 'cus': 4685, 'ineg': 4686, 'ilustr': 4687, 'ffa': 4688, 'outdo': 4689, 'tatic': 4690, 'proplem': 4691, 'revis': 4692, 'pioneir': 4693, 'kkkkkkkkk': 4694, 'toooppp': 4695, 'trastorn': 4696, 'mestr': 4697, 'radic': 4698, 'metropolit': 4699, 'bich': 4700, 'especul': 4701, 'signific': 4702, 'reincid': 4703, 'recusrs': 4704, 'reconec': 4705, 'gourmet': 4706, \"''e\": 4707, 'elefant': 4708, 'britan': 4709, 'substitui': 4710, 'deslumbr': 4711, 'idad': 4712, 'mperquen': 4713, 'otin': 4714, 'rfb': 4715, 'cpo': 4716, 'pil': 4717, 'praticirad': 4718, 'desepisa': 4719, 'tei': 4720, 'eli': 4721, 'iril': 4722, 'finc': 4723, 'mapmyrun': 4724, 'sirv': 4725, 'precoc': 4726, 'estibil': 4727, 'parat': 4728, 'autoricas': 4729, 'ecxellent': 4730, 'lik': 4731, 'excellent': 4732, 'quality': 4733, 'received': 4734, 'trust': 4735, 'my': 4736, 'jat': 4737, 'minn': 4738, 'hih': 4739, 'du': 4740, 'correc': 4741, 'hipotes': 4742, 'perfeito': 4743, 'longev': 4744, 'limd': 4745, 'tenhi': 4746, 'pond': 4747, 'trasnpar': 4748, 'adot': 4749, 'magnificooooo': 4750, 'maqun': 4751, 'incrivi': 4752, 'inorm': 4753, 'muintic': 4754, 'situaca': 4755, 'pwd': 4756, 'inv': 4757, 'devolvera': 4758, 'br': 4759, 'pessim': 4760, 'quaisqu': 4761, 'fram': 4762, 'sma': 4763, 'phic': 4764, 'quiz': 4765, 'sofw': 4766, 'reculper': 4767, 'bootload': 4768, 'semn': 4769, 'ufa': 4770, 'curi': 4771, 'toooooooppppp': 4772, 'abilitaca': 4773, 'inicializaca': 4774, 'desequilibr': 4775, 'acessiv': 4776, 'pessimoo': 4777, 'desrespeit': 4778, 'playstory': 4779, 'desgovern': 4780, 'bostonaz': 4781, 'desabaf': 4782, 'forabolsonar': 4783, 'oneplu': 4784, 'bnt': 4785, 'tetalh': 4786, 'resistent': 4787, 'trambolh': 4788, 'estabiliz': 4789, 'desconhec': 4790, 'eea': 4791, 'pfgeuxm': 4792, 'europe': 4793, 'cronogram': 4794, 'pfgmixm': 4795, 'toothscre': 4796, 'aparelg': 4797, 'asves': 4798, 'primordi': 4799, 'fidel': 4800, 'trint': 4801, 'ka': 4802, 'dencarreg': 4803, 'disp': 4804, 'pagt': 4805, 'nobr': 4806, 'smarthon': 4807, 'compt': 4808, 'reemb': 4809, 'coub': 4810, 'manifest': 4811, 'istagr': 4812, 'lest': 4813, 'fulan': 4814, 'nokl': 4815, 'lgassistenc': 4816, 'relogi': 4817, 'tev': 4818, 'headphon': 4819, 'prelimin': 4820, 'atrel': 4821, 'whatszap': 4822, 'finiss': 4823, 'knock': 4824, 'sabi': 4825, 'sorte': 4826, 'fars': 4827, 'incompat': 4828, 'moed': 4829, 'escalafobe': 4830, 'conqu': 4831, 'detox': 4832, 'renunci': 4833, 'retro': 4834, 'incondic': 4835, 'hdtv': 4836, 'bia': 4837, 'eess': 4838, 'thet': 4839, 'amozon': 4840, 'avari': 4841, 'cnn': 4842, 'pessimopess': 4843, 'valid': 4844, 'despeit': 4845, 'conduz': 4846, 'desastr': 4847, 'grd': 4848, 'pagbank': 4849, 'itau': 4850, 'imform': 4851, 'videoconfer': 4852, 'enfatiz': 4853, 'milimetr': 4854, 'elabor': 4855, 'reag': 4856, 'kcet': 4857, 'prom': 4858, 'veeifiqu': 4859, 'necessidad': 4860, 'wue': 4861, 'sequenc': 4862, 'bloatw': 4863, 'loop': 4864, 'elul': 4865, 'sensi': 4866, 'deveit': 4867, 'covard': 4868, 'acessibilil': 4869, 'desposi': 4870, 'senssibil': 4871, 'imclusiv': 4872, 'inpact': 4873, 'queich': 4874, 'consci': 4875, 'mistur': 4876, 'ook': 4877, 'pedac': 4878, 'bated': 4879, 'depr': 4880, 'prejuis': 4881, 'quej': 4882, 'elenov': 4883, 'travando': 4884, 'bagulh': 4885, 'disparad': 4886, 'usasr': 4887, 'aconcelh': 4888, 'bancari': 4889, 'explicaca': 4890, 'informaco': 4891, 'uooo': 4892, 'borogodo': 4893, 'opic': 4894, 'abat': 4895, 'maravilhoso': 4896, 'beee': 4897, 'smartwatch': 4898, 'smartband': 4899, 'exercici': 4900, 'astr': 4901, 'doolby': 4902, 'raz': 4903, 'tiamat': 4904, 'intelbr': 4905, 'lamenta': 4906, 'topza': 4907, 'ecepic': 4908, 'praboutr': 4909, 'pessi': 4910, 'squ': 4911, 'mult': 4912, 'juz': 4913, 'adiqu': 4914, 'encart': 4915, 'sak': 4916, 'aao': 4917, 'origib': 4918, 'cooktop': 4919, 'desvaloriz': 4920, 'recum': 4921, 'zel': 4922, 'nqo': 4923, 'pern': 4924, 'aql': 4925, 'superexpos': 4926, 'suaviz': 4927, 'muuuuuuuit': 4928, 'trab': 4929, 'uberrr': 4930, 'boletim': 4931, 'franqu': 4932, 'customiza': 4933, 'world': 4934, 'trec': 4935, 'bugingang': 4936, 'touchpad': 4937, 'arrast': 4938, 'direc': 4939, 'escov': 4940, 'flh': 4941, 'quebred': 4942, 'mesc': 4943, 'veend': 4944, 'cobraramb': 4945, 'very': 4946, 'good': 4947, 'papela': 4948, 'pac': 4949, 'ruir': 4950, 'intusiast': 4951, 'autom': 4952, 'companh': 4953, 'emprest': 4954, 'asia': 4955, 'forn': 4956, 'playator': 4957, 'bonzim': 4958, 'mix': 4959, 'quex': 4960, 'probrem': 4961, 'otari': 4962, 'prdut': 4963, 'ori': 4964, 'apgandon': 4965, 'asc': 4966, 'mensagen': 4967, 'raso': 4968, 'taoo': 4969, 'agarad': 4970, 'faceid': 4971, 'class': 4972, 'atrav': 4973, 'franc': 4974, 'smatphon': 4975, 'low': 4976, 'level': 4977, 'isatisfatori': 4978, 'verniz': 4979, 'porcariaa': 4980, 'prestaaaaa': 4981, 'probem': 4982, 'compreeee': 4983, 'esseee': 4984, 'celuarrrr': 4985, 'porcariaaaaa': 4986, 'jah': 4987, 'falcatru': 4988, 'noutr': 4989, 'avaliaco': 4990, 'desisper': 4991, 'appk': 4992, 'indiqu': 4993, 'principal': 4994, 'playtation': 4995, 'rbat': 4996, 'limitaco': 4997, 'cabel': 4998, 'dirig': 4999, 'rein': 5000, 'respec': 5001, 'judic': 5002, 'netlix': 5003, 'advig': 5004, 'pix': 5005, 'sobre': 5006, 'munh': 5007, 'vont': 5008, 'nens': 5009, 'pfvr': 5010, 'errad': 5011, 'celent': 5012, 'epox': 5013, 'orch': 5014, 'acist': 5015, 'dpoil': 5016, 'boass': 5017, 'influenc': 5018, 'interced': 5019, 'enf': 5020, 'numk': 5021, 'sugesto': 5022, 'youtut': 5023, 'interrupc': 5024, 'tio': 5025, 'qo': 5026, 'exepl': 5027, 'pap': 5028, 'codr': 5029, 'apur': 5030, 'mjnh': 5031, 'deseign': 5032, 'stop': 5033, 'fabtic': 5034, 'proces': 5035, 'ninj': 5036, 'sencac': 5037, 'espion': 5038, 'microsoft': 5039, 'desprogam': 5040, 'ecossistem': 5041, 'minuscul': 5042, 'sne': 5043, 'retroarch': 5044}\n"
     ]
    }
   ],
   "source": [
    "tokenizer = Tokenizer()\n",
    "\n",
    "tokenizer.fit_on_texts(X_train)\n",
    "\n",
    "word_index = tokenizer.word_index\n",
    "print(word_index)\n",
    "\n",
    "vocab_size = len(word_index)"
   ]
  },
  {
   "cell_type": "markdown",
   "id": "454b82bf",
   "metadata": {},
   "source": [
    "Após isso, foi realizada a vetorização dos textos das reviews.\n",
    "\n",
    "Este procedimento consiste em transformar uma sequência de strings em uma lista de inteiros que representam os índices de cada token, ou seja, cada palavra do vocabulário, ou em uma lista com valores float que representam informações sobre os tokens.\n",
    "\n",
    "Basicamente, este procedimento de vetorização transforma linguagem natural em um formato compreensível para o modelo.\n",
    "\n",
    "Na vetorização, foram definidas algumas opções:\n",
    "- Padronização foi desabilitada, pois os textos já foram padronizados anteriormente\n",
    "- Modo de saída foi definido como `int`, que retorna um vetor de inteiros, em que cada item do vetor corresponde a uma palavra\n",
    "    - Como o índice 0 corresponde a espaços vazios no vetor, o número máximo de tokens na vetorização foi definido como o tamanho do vocabulário menos 2, pois é retirado 1 do tamanho do vocabulário por conta dos tokens OOV (out of vocabulary), usados para substituir palavras desconhecidas, e outro por conta do 0\n",
    "- O vetor de saída da vetorização sempre terá o tamanho 100\n",
    "\n",
    "Por fim, foi utilizado o `adapt`, para criar um vocabulário a partir das palavras do dataset, determinando a frequência de cada palavra existente"
   ]
  },
  {
   "cell_type": "code",
   "execution_count": 17,
   "id": "bd29166e",
   "metadata": {},
   "outputs": [
    {
     "data": {
      "text/plain": [
       "5044"
      ]
     },
     "execution_count": 17,
     "metadata": {},
     "output_type": "execute_result"
    }
   ],
   "source": [
    "vocab_size"
   ]
  },
  {
   "cell_type": "code",
   "execution_count": 18,
   "id": "37fe1b3d",
   "metadata": {},
   "outputs": [],
   "source": [
    "vectorize_layer = TextVectorization(\n",
    "    standardize=None,\n",
    "    max_tokens=(vocab_size - 2),\n",
    "    output_mode=\"int\",\n",
    "    output_sequence_length=100,\n",
    ")\n",
    "\n",
    "vectorize_layer.adapt(X_train)"
   ]
  },
  {
   "cell_type": "markdown",
   "id": "1c257af5",
   "metadata": {},
   "source": [
    "Então, a vetorização foi aplicada aos dados de treino e de teste"
   ]
  },
  {
   "cell_type": "code",
   "execution_count": 19,
   "id": "88b627f1",
   "metadata": {},
   "outputs": [],
   "source": [
    "X_train_data = vectorize_layer(X_train).numpy()\n",
    "y_train_data = y_train.astype(\"int\")\n",
    "\n",
    "X_test_data = vectorize_layer(X_test).numpy()\n",
    "y_test_data = y_test.astype(\"int\")"
   ]
  },
  {
   "cell_type": "code",
   "execution_count": 20,
   "id": "07abd463",
   "metadata": {},
   "outputs": [
    {
     "data": {
      "text/plain": [
       "(array([[ 120,   71,  352, ...,    0,    0,    0],\n",
       "        [   3,  642,   24, ...,    0,    0,    0],\n",
       "        [ 428,  161,  114, ...,    0,    0,    0],\n",
       "        ...,\n",
       "        [  28,   26,    3, ...,    0,    0,    0],\n",
       "        [   5,    8,  302, ...,    0,    0,    0],\n",
       "        [ 224,   48, 1245, ...,  143,  453,  737]], dtype=int64),\n",
       " array([[   8, 2158,  275, ...,    0,    0,    0],\n",
       "        [  11,    5,   11, ...,    0,    0,    0],\n",
       "        [ 139,  293, 1404, ...,    0,    0,    0],\n",
       "        ...,\n",
       "        [  11,   13,   10, ...,    0,    0,    0],\n",
       "        [  11,  395,   12, ...,    0,    0,    0],\n",
       "        [  12,  146,    2, ...,    0,    0,    0]], dtype=int64))"
      ]
     },
     "execution_count": 20,
     "metadata": {},
     "output_type": "execute_result"
    }
   ],
   "source": [
    "X_train_data, X_test_data"
   ]
  },
  {
   "cell_type": "code",
   "execution_count": 21,
   "id": "4853fcfc",
   "metadata": {},
   "outputs": [
    {
     "data": {
      "text/plain": [
       "((100,), (100,))"
      ]
     },
     "execution_count": 21,
     "metadata": {},
     "output_type": "execute_result"
    }
   ],
   "source": [
    "X_train_data[0].shape, X_test_data[0].shape"
   ]
  },
  {
   "cell_type": "markdown",
   "id": "cbe4f0cc",
   "metadata": {},
   "source": [
    "### Criando modelo"
   ]
  },
  {
   "cell_type": "markdown",
   "id": "6c48d84a",
   "metadata": {},
   "source": [
    "O modelo foi criado utilizando o Keras, utilizando as seguintes camadas:\n",
    "\n",
    "- **Embedding:**\n",
    "    - Converte valores inteiros (referentes aos índices de cada palavra, que foi obtido na vetorização) em vetores de tamanho fixo. Esta camada é inicializada com pesos aleatórios e aprende a incorporação (embedding) para todas as palavras do dataset de treino, aprendendo junto com o modelo.\n",
    "    - Neste caso, foi definida a dimensão de entrada como o tamanho do vocabulário, e a dimensão de saída como um vetor de tamanho 100.\n",
    "    - Links úteis:\n",
    "        - https://www.tensorflow.org/api_docs/python/tf/keras/layers/Embedding\n",
    "        - https://machinelearningmastery.com/use-word-embedding-layers-deep-learning-keras/\n",
    "        - https://stats.stackexchange.com/questions/270546/how-does-keras-embedding-layer-work\n",
    "- **Conv1D:**\n",
    "    - Camada convolucional de 1 dimensão - usada para texto\n",
    "    - Cria um kernel de convolução que envolve a camada de entrada (no caso, a Embedding) em uma única dimensão para, deste modo, gerar um vetor de saídas\n",
    "    - Neste caso, a camada de convolução de 1 dimensão utilizou 128 filtros de saída na convolução, um kernel size de tamanho 5, que seria janela de convolução, e também utilizou a função de ativação relu\n",
    "    - Links úteis:\n",
    "        - https://machinelearningmastery.com/convolutional-layers-for-deep-learning-neural-networks/\n",
    "        - https://www.tensorflow.org/api_docs/python/tf/keras/layers/Conv1D\n",
    "- **GlobalMaxPooling1D:**\n",
    "    - Retorna um vetor de saída de tamanho fixo para cada registro, buscando o valor máximo na dimensão deste registro.\n",
    "    - Links úteis:\n",
    "        - https://keras.io/api/layers/pooling_layers/global_max_pooling1d/\n",
    "        - https://www.tensorflow.org/text/guide/word_embeddings#create_a_classification_model\n",
    "- **Dense (100):**\n",
    "    - Camada oculta com 100 neurônios e função de ativação relu\n",
    "    - Links úteis:\n",
    "        - https://www.tensorflow.org/api_docs/python/tf/keras/layers/Dense#input-shape\n",
    "- **Dense (1):**\n",
    "   - Camada de saída com 1 neurônio (valor da saída) e função de ativação sigmoid\n",
    "   \n",
    "Para a compilação do modelo foi utilizado o otimizador **Adam**, que implementa o algoritmo Adam para otimização, que consiste em um método de gradiente descendente estocástico baseada na estimativa adaptável de momentos de primeira e segunda ordem.\n",
    "- Links úteis:\n",
    "    - https://keras.io/api/optimizers/adam/\n",
    "    - https://acervolima.com/intuicao-de-adam-otimizador/\n",
    "\n",
    "Para calcular a perda (loss), foi utilizado ***Binary Crossentropy**, que calcula a entropia cruzada entre classes previstas pelo modelo e classes esperadas.\n",
    "- Links úteis:\n",
    "    - https://keras.io/api/losses/probabilistic_losses/\n",
    "\n",
    "Para executar o módelo, foram utilizadas 20 épocas e um batch size de 10."
   ]
  },
  {
   "cell_type": "code",
   "execution_count": 22,
   "id": "ad2c9afd",
   "metadata": {},
   "outputs": [
    {
     "name": "stdout",
     "output_type": "stream",
     "text": [
      "Model: \"sequential\"\n",
      "_________________________________________________________________\n",
      " Layer (type)                Output Shape              Param #   \n",
      "=================================================================\n",
      " embedding (Embedding)       (None, None, 100)         504400    \n",
      "                                                                 \n",
      " conv1d (Conv1D)             (None, None, 128)         64128     \n",
      "                                                                 \n",
      " global_max_pooling1d (Globa  (None, 128)              0         \n",
      " lMaxPooling1D)                                                  \n",
      "                                                                 \n",
      " dense (Dense)               (None, 100)               12900     \n",
      "                                                                 \n",
      " dense_1 (Dense)             (None, 1)                 101       \n",
      "                                                                 \n",
      "=================================================================\n",
      "Total params: 581,529\n",
      "Trainable params: 581,529\n",
      "Non-trainable params: 0\n",
      "_________________________________________________________________\n"
     ]
    }
   ],
   "source": [
    "model = Sequential()\n",
    "\n",
    "Embedding\n",
    "\n",
    "model.add(Embedding(vocab_size, 100))\n",
    "model.add(Conv1D(filters=128, kernel_size=5, activation=\"relu\"))\n",
    "model.add(GlobalMaxPooling1D())\n",
    "model.add(Dense(100, activation=\"relu\"))\n",
    "model.add(Dense(1, activation=\"sigmoid\"))\n",
    "\n",
    "optimizer = Adam(learning_rate=0.001)\n",
    "loss = BinaryCrossentropy()\n",
    "\n",
    "model.compile(optimizer=optimizer, loss=loss, metrics=[\"accuracy\"])\n",
    "model.summary()"
   ]
  },
  {
   "cell_type": "code",
   "execution_count": 23,
   "id": "3d23b7ae",
   "metadata": {},
   "outputs": [
    {
     "name": "stdout",
     "output_type": "stream",
     "text": [
      "Epoch 1/20\n",
      "595/595 [==============================] - 6s 10ms/step - loss: 0.2297 - accuracy: 0.9102\n",
      "Epoch 2/20\n",
      "595/595 [==============================] - 6s 9ms/step - loss: 0.0701 - accuracy: 0.9751\n",
      "Epoch 3/20\n",
      "595/595 [==============================] - 5s 9ms/step - loss: 0.0128 - accuracy: 0.9968\n",
      "Epoch 4/20\n",
      "595/595 [==============================] - 5s 9ms/step - loss: 0.0024 - accuracy: 0.9995\n",
      "Epoch 5/20\n",
      "595/595 [==============================] - 5s 9ms/step - loss: 5.0661e-04 - accuracy: 1.0000\n",
      "Epoch 6/20\n",
      "595/595 [==============================] - 5s 9ms/step - loss: 8.7766e-05 - accuracy: 1.0000\n",
      "Epoch 7/20\n",
      "595/595 [==============================] - 5s 9ms/step - loss: 5.1138e-05 - accuracy: 1.0000\n",
      "Epoch 8/20\n",
      "595/595 [==============================] - 5s 9ms/step - loss: 3.4347e-05 - accuracy: 1.0000\n",
      "Epoch 9/20\n",
      "595/595 [==============================] - 5s 9ms/step - loss: 2.3639e-05 - accuracy: 1.0000\n",
      "Epoch 10/20\n",
      "595/595 [==============================] - 5s 9ms/step - loss: 1.5664e-05 - accuracy: 1.0000\n",
      "Epoch 11/20\n",
      "595/595 [==============================] - 5s 9ms/step - loss: 9.3477e-06 - accuracy: 1.0000\n",
      "Epoch 12/20\n",
      "595/595 [==============================] - 5s 9ms/step - loss: 4.9722e-06 - accuracy: 1.0000\n",
      "Epoch 13/20\n",
      "595/595 [==============================] - 6s 9ms/step - loss: 2.5330e-06 - accuracy: 1.0000\n",
      "Epoch 14/20\n",
      "595/595 [==============================] - 5s 9ms/step - loss: 1.3866e-06 - accuracy: 1.0000\n",
      "Epoch 15/20\n",
      "595/595 [==============================] - 5s 9ms/step - loss: 8.1904e-07 - accuracy: 1.0000\n",
      "Epoch 16/20\n",
      "595/595 [==============================] - 5s 9ms/step - loss: 5.1359e-07 - accuracy: 1.0000\n",
      "Epoch 17/20\n",
      "595/595 [==============================] - 5s 9ms/step - loss: 3.3604e-07 - accuracy: 1.0000\n",
      "Epoch 18/20\n",
      "595/595 [==============================] - 5s 9ms/step - loss: 2.2906e-07 - accuracy: 1.0000\n",
      "Epoch 19/20\n",
      "595/595 [==============================] - 5s 9ms/step - loss: 1.5794e-07 - accuracy: 1.0000\n",
      "Epoch 20/20\n",
      "595/595 [==============================] - 5s 9ms/step - loss: 1.1135e-07 - accuracy: 1.0000\n"
     ]
    }
   ],
   "source": [
    "epochs = 20 #100\n",
    "batch_size = 10 #len(X_train_data)\n",
    "\n",
    "history = model.fit(\n",
    "    X_train_data,\n",
    "    y_train_data,\n",
    "    epochs=epochs,\n",
    "    batch_size=batch_size,\n",
    "    verbose=1,\n",
    ")"
   ]
  },
  {
   "cell_type": "code",
   "execution_count": 24,
   "id": "411a4182",
   "metadata": {},
   "outputs": [
    {
     "data": {
      "image/png": "[encoded data removed]",
      "text/plain": [
       "<Figure size 432x288 with 1 Axes>"
      ]
     },
     "metadata": {
      "needs_background": "light"
     },
     "output_type": "display_data"
    }
   ],
   "source": [
    "plt.plot(history.history[\"loss\"])\n",
    "plt.show()"
   ]
  },
  {
   "cell_type": "code",
   "execution_count": 25,
   "id": "926ac2f2",
   "metadata": {},
   "outputs": [
    {
     "name": "stdout",
     "output_type": "stream",
     "text": [
      "62/62 [==============================] - 0s 3ms/step - loss: 0.3527 - accuracy: 0.9546\n",
      "Accuracy: 0.955\n"
     ]
    }
   ],
   "source": [
    "test_results = model.evaluate(X_test_data, y_test_data)\n",
    "print(f\"Accuracy: {test_results[1]:.3f}\")"
   ]
  },
  {
   "cell_type": "markdown",
   "id": "0ed46e83",
   "metadata": {},
   "source": [
    "Por fim, para gerar as métricas resultantes da classificação e a matriz de confusão, os dados de teste foram previstos um a um e, a partir do valor retornado pelo modelo, caso este fosse maior que 0.5, era considerado 1 (review positiva) e, caso fosse menor ou igual a 0.5, era considerado 0 (review negativa)"
   ]
  },
  {
   "cell_type": "code",
   "execution_count": 26,
   "id": "fdee7ac2",
   "metadata": {},
   "outputs": [
    {
     "name": "stdout",
     "output_type": "stream",
     "text": [
      "62/62 [==============================] - 0s 3ms/step\n",
      "\n",
      "\n",
      "\n",
      "              precision    recall  f1-score   support\n",
      "\n",
      "           0       0.95      0.96      0.95       987\n",
      "           1       0.96      0.95      0.95       995\n",
      "\n",
      "    accuracy                           0.95      1982\n",
      "   macro avg       0.95      0.95      0.95      1982\n",
      "weighted avg       0.95      0.95      0.95      1982\n",
      "\n"
     ]
    }
   ],
   "source": [
    "y_pred = model.predict(X_test_data).squeeze()\n",
    "y_pred_results = [1 if item > 0.5 else 0 for item in y_pred]\n",
    "\n",
    "print(\"\\n\\n\")\n",
    "\n",
    "print(classification_report(y_pred_results, y_test))"
   ]
  },
  {
   "cell_type": "code",
   "execution_count": 27,
   "id": "25972288",
   "metadata": {},
   "outputs": [
    {
     "data": {
      "text/plain": [
       "<Axes: >"
      ]
     },
     "execution_count": 27,
     "metadata": {},
     "output_type": "execute_result"
    },
    {
     "data": {
      "image/png": "[encoded data removed]",
      "text/plain": [
       "<Figure size 432x288 with 2 Axes>"
      ]
     },
     "metadata": {
      "needs_background": "light"
     },
     "output_type": "display_data"
    }
   ],
   "source": [
    "cm = confusion_matrix(y_pred_results, y_test)\n",
    "sns.heatmap(cm, annot=True, cmap=\"coolwarm\", fmt=\"g\")"
   ]
  },
  {
   "cell_type": "markdown",
   "id": "0d1e54cf",
   "metadata": {},
   "source": [
    "### Salvando modelo"
   ]
  },
  {
   "cell_type": "code",
   "execution_count": 28,
   "id": "21c32485",
   "metadata": {},
   "outputs": [
    {
     "name": "stderr",
     "output_type": "stream",
     "text": [
      "WARNING:absl:Found untraced functions such as _jit_compiled_convolution_op while saving (showing 1 of 1). These functions will not be directly callable after loading.\n"
     ]
    },
    {
     "name": "stdout",
     "output_type": "stream",
     "text": [
      "INFO:tensorflow:Assets written to: ./model/conv_review_classifier\\assets\n"
     ]
    },
    {
     "name": "stderr",
     "output_type": "stream",
     "text": [
      "INFO:tensorflow:Assets written to: ./model/conv_review_classifier\\assets\n"
     ]
    }
   ],
   "source": [
    "model.save(\"./model/conv_review_classifier\")"
   ]
  },
  {
   "cell_type": "code",
   "execution_count": 31,
   "id": "b74ac1bf",
   "metadata": {},
   "outputs": [],
   "source": [
    "vectorizer_weights = {\n",
    "    \"config\": vectorize_layer.get_config(),\n",
    "    \"weights\": vectorize_layer.get_weights(),\n",
    "}\n",
    "\n",
    "with open(\"./model/vectorizer.pkl\", \"wb\") as f:\n",
    "    pickle.dump(vectorizer_weights, f)"
   ]
  }
 ],
 "metadata": {
  "kernelspec": {
   "display_name": "Python 3 (ipykernel)",
   "language": "python",
   "name": "python3"
  },
  "language_info": {
   "codemirror_mode": {
    "name": "ipython",
    "version": 3
   },
   "file_extension": ".py",
   "mimetype": "text/x-python",
   "name": "python",
   "nbconvert_exporter": "python",
   "pygments_lexer": "ipython3",
   "version": "3.10.5"
  }
 },
 "nbformat": 4,
 "nbformat_minor": 5
}
