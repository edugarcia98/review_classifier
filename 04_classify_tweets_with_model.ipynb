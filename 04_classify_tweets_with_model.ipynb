{
 "cells": [
  {
   "cell_type": "code",
   "execution_count": 1,
   "id": "3967ecac",
   "metadata": {},
   "outputs": [
    {
     "name": "stderr",
     "output_type": "stream",
     "text": [
      "[nltk_data] Downloading package stopwords to\n",
      "[nltk_data]     C:\\Users\\T-GAMER\\AppData\\Roaming\\nltk_data...\n",
      "[nltk_data]   Package stopwords is already up-to-date!\n",
      "[nltk_data] Downloading package rslp to\n",
      "[nltk_data]     C:\\Users\\T-GAMER\\AppData\\Roaming\\nltk_data...\n",
      "[nltk_data]   Package rslp is already up-to-date!\n"
     ]
    }
   ],
   "source": [
    "import nltk\n",
    "import numpy as np\n",
    "import pandas as pd\n",
    "import pickle\n",
    "import seaborn as sns\n",
    "\n",
    "from nltk.corpus import stopwords\n",
    "from nltk.stem import RSLPStemmer\n",
    "from sklearn.metrics import classification_report, confusion_matrix\n",
    "from string import digits, punctuation\n",
    "from tensorflow.keras.layers import TextVectorization\n",
    "from tensorflow.keras.models import load_model\n",
    "from tqdm import tqdm\n",
    "from unidecode import unidecode\n",
    "\n",
    "nltk.download(\"stopwords\")\n",
    "nltk.download(\"rslp\")\n",
    "tqdm.pandas()"
   ]
  },
  {
   "cell_type": "markdown",
   "id": "d6eb18ca",
   "metadata": {},
   "source": [
    "### Carregando modelo"
   ]
  },
  {
   "cell_type": "code",
   "execution_count": 2,
   "id": "3d885dca",
   "metadata": {},
   "outputs": [
    {
     "name": "stdout",
     "output_type": "stream",
     "text": [
      "Model: \"sequential\"\n",
      "_________________________________________________________________\n",
      " Layer (type)                Output Shape              Param #   \n",
      "=================================================================\n",
      " embedding (Embedding)       (None, None, 100)         504400    \n",
      "                                                                 \n",
      " conv1d (Conv1D)             (None, None, 128)         64128     \n",
      "                                                                 \n",
      " global_max_pooling1d (Globa  (None, 128)              0         \n",
      " lMaxPooling1D)                                                  \n",
      "                                                                 \n",
      " dense (Dense)               (None, 100)               12900     \n",
      "                                                                 \n",
      " dense_1 (Dense)             (None, 1)                 101       \n",
      "                                                                 \n",
      "=================================================================\n",
      "Total params: 581,529\n",
      "Trainable params: 581,529\n",
      "Non-trainable params: 0\n",
      "_________________________________________________________________\n"
     ]
    }
   ],
   "source": [
    "model = load_model(\"./model/conv_review_classifier\")\n",
    "model.summary()"
   ]
  },
  {
   "cell_type": "markdown",
   "id": "e68226a3",
   "metadata": {},
   "source": [
    "### Carregando vectorizer"
   ]
  },
  {
   "cell_type": "code",
   "execution_count": 3,
   "id": "0a39c427",
   "metadata": {},
   "outputs": [],
   "source": [
    "with open(\"./model/vectorizer.pkl\", \"rb\") as f:\n",
    "    vectorizer_dict = pickle.load(f)\n",
    "\n",
    "vectorizer = TextVectorization.from_config(vectorizer_dict[\"config\"])\n",
    "vectorizer.set_weights(vectorizer_dict[\"weights\"])"
   ]
  },
  {
   "cell_type": "markdown",
   "id": "53236bfa",
   "metadata": {},
   "source": [
    "### Transformando texto"
   ]
  },
  {
   "cell_type": "code",
   "execution_count": 4,
   "id": "1d2d01e5",
   "metadata": {},
   "outputs": [],
   "source": [
    "CHARS_TO_REMOVE = punctuation + digits\n",
    "STOP_WORDS = stopwords.words(\"portuguese\")\n",
    "stemmer = RSLPStemmer()\n",
    "\n",
    "def transform_text(txt: str):\n",
    "    table = str.maketrans(CHARS_TO_REMOVE, (\" \" * len(CHARS_TO_REMOVE)))\n",
    "    formatted_text = txt.lower().replace(\"\\n\", \" \").translate(table)\n",
    "    \n",
    "    formatted_text = \" \".join(\n",
    "        [\n",
    "            stemmer.stem(word)\n",
    "            for word\n",
    "            in formatted_text.split(\" \")\n",
    "            if word\n",
    "            and word not in STOP_WORDS\n",
    "        ]\n",
    "    )\n",
    "    formatted_text = unidecode(formatted_text)\n",
    "    \n",
    "    return formatted_text"
   ]
  },
  {
   "cell_type": "markdown",
   "id": "b8aeabb2",
   "metadata": {},
   "source": [
    "### Tweets classificados pelo ChatGPT"
   ]
  },
  {
   "cell_type": "code",
   "execution_count": 5,
   "id": "8d414907",
   "metadata": {},
   "outputs": [],
   "source": [
    "df = pd.read_csv(\"./data/tweets.csv\")"
   ]
  },
  {
   "cell_type": "code",
   "execution_count": 6,
   "id": "7072b42e",
   "metadata": {},
   "outputs": [
    {
     "data": {
      "text/html": [
       "<div>\n",
       "<style scoped>\n",
       "    .dataframe tbody tr th:only-of-type {\n",
       "        vertical-align: middle;\n",
       "    }\n",
       "\n",
       "    .dataframe tbody tr th {\n",
       "        vertical-align: top;\n",
       "    }\n",
       "\n",
       "    .dataframe thead th {\n",
       "        text-align: right;\n",
       "    }\n",
       "</style>\n",
       "<table border=\"1\" class=\"dataframe\">\n",
       "  <thead>\n",
       "    <tr style=\"text-align: right;\">\n",
       "      <th></th>\n",
       "      <th>tweet_text</th>\n",
       "      <th>class</th>\n",
       "    </tr>\n",
       "  </thead>\n",
       "  <tbody>\n",
       "    <tr>\n",
       "      <th>0</th>\n",
       "      <td>O bom de usar Samsung é que desde ontem eu não...</td>\n",
       "      <td>1</td>\n",
       "    </tr>\n",
       "    <tr>\n",
       "      <th>1</th>\n",
       "      <td>Gente eu passei anos e anos sendo hater da Sam...</td>\n",
       "      <td>1</td>\n",
       "    </tr>\n",
       "    <tr>\n",
       "      <th>2</th>\n",
       "      <td>MEU GALAXY S20+ TÁ MUITO BOM AINDA, NÃO PRECIS...</td>\n",
       "      <td>1</td>\n",
       "    </tr>\n",
       "    <tr>\n",
       "      <th>3</th>\n",
       "      <td>Esse carregador turbo da samsung é mt bom, col...</td>\n",
       "      <td>1</td>\n",
       "    </tr>\n",
       "    <tr>\n",
       "      <th>4</th>\n",
       "      <td>Que celular excelente é o tal Galaxy S22 Ultra...</td>\n",
       "      <td>1</td>\n",
       "    </tr>\n",
       "  </tbody>\n",
       "</table>\n",
       "</div>"
      ],
      "text/plain": [
       "                                          tweet_text  class\n",
       "0  O bom de usar Samsung é que desde ontem eu não...      1\n",
       "1  Gente eu passei anos e anos sendo hater da Sam...      1\n",
       "2  MEU GALAXY S20+ TÁ MUITO BOM AINDA, NÃO PRECIS...      1\n",
       "3  Esse carregador turbo da samsung é mt bom, col...      1\n",
       "4  Que celular excelente é o tal Galaxy S22 Ultra...      1"
      ]
     },
     "execution_count": 6,
     "metadata": {},
     "output_type": "execute_result"
    }
   ],
   "source": [
    "df.head()"
   ]
  },
  {
   "cell_type": "code",
   "execution_count": 7,
   "id": "69d2ff64",
   "metadata": {},
   "outputs": [
    {
     "data": {
      "text/plain": [
       "1    68\n",
       "0    68\n",
       "Name: class, dtype: int64"
      ]
     },
     "execution_count": 7,
     "metadata": {},
     "output_type": "execute_result"
    }
   ],
   "source": [
    "df[\"class\"].value_counts()"
   ]
  },
  {
   "cell_type": "code",
   "execution_count": 8,
   "id": "02f288f4",
   "metadata": {},
   "outputs": [
    {
     "name": "stderr",
     "output_type": "stream",
     "text": [
      "100%|██████████████████████████████████████████████████████████████████████████████| 136/136 [00:00<00:00, 2783.00it/s]\n"
     ]
    }
   ],
   "source": [
    "df[\"clean_text\"] = df[\"tweet_text\"].progress_apply(\n",
    "    lambda item: transform_text(item)\n",
    ")"
   ]
  },
  {
   "cell_type": "code",
   "execution_count": 9,
   "id": "41641c33",
   "metadata": {},
   "outputs": [],
   "source": [
    "X = vectorizer(df[\"clean_text\"]).numpy()\n",
    "y = df[\"class\"].astype(\"int\")"
   ]
  },
  {
   "cell_type": "markdown",
   "id": "f22333cd",
   "metadata": {},
   "source": [
    "#### Predição"
   ]
  },
  {
   "cell_type": "code",
   "execution_count": 12,
   "id": "c064dceb",
   "metadata": {},
   "outputs": [
    {
     "name": "stdout",
     "output_type": "stream",
     "text": [
      "5/5 [==============================] - 0s 3ms/step\n"
     ]
    }
   ],
   "source": [
    "pred = model.predict(X).squeeze()"
   ]
  },
  {
   "cell_type": "code",
   "execution_count": 14,
   "id": "1edfad23",
   "metadata": {},
   "outputs": [],
   "source": [
    "results = [1 if item > 0.5 else 0 for item in pred]"
   ]
  },
  {
   "cell_type": "code",
   "execution_count": 16,
   "id": "534fd3ab",
   "metadata": {},
   "outputs": [
    {
     "name": "stdout",
     "output_type": "stream",
     "text": [
      "              precision    recall  f1-score   support\n",
      "\n",
      "           0       0.90      0.59      0.71       103\n",
      "           1       0.38      0.79      0.51        33\n",
      "\n",
      "    accuracy                           0.64       136\n",
      "   macro avg       0.64      0.69      0.61       136\n",
      "weighted avg       0.77      0.64      0.67       136\n",
      "\n"
     ]
    }
   ],
   "source": [
    "print(classification_report(results, y))"
   ]
  },
  {
   "cell_type": "code",
   "execution_count": 17,
   "id": "9fd7e6b7",
   "metadata": {},
   "outputs": [
    {
     "data": {
      "text/plain": [
       "<Axes: >"
      ]
     },
     "execution_count": 17,
     "metadata": {},
     "output_type": "execute_result"
    },
    {
     "data": {
      "image/png": "[encoded data removed]",
      "text/plain": [
       "<Figure size 432x288 with 2 Axes>"
      ]
     },
     "metadata": {
      "needs_background": "light"
     },
     "output_type": "display_data"
    }
   ],
   "source": [
    "cm = confusion_matrix(results, y)\n",
    "sns.heatmap(cm, annot=True, cmap=\"coolwarm\", fmt=\"g\")"
   ]
  }
 ],
 "metadata": {
  "kernelspec": {
   "display_name": "Python 3 (ipykernel)",
   "language": "python",
   "name": "python3"
  },
  "language_info": {
   "codemirror_mode": {
    "name": "ipython",
    "version": 3
   },
   "file_extension": ".py",
   "mimetype": "text/x-python",
   "name": "python",
   "nbconvert_exporter": "python",
   "pygments_lexer": "ipython3",
   "version": "3.10.5"
  }
 },
 "nbformat": 4,
 "nbformat_minor": 5
}
