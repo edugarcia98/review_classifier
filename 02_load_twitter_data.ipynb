{
 "cells": [
  {
   "cell_type": "code",
   "execution_count": 1,
   "id": "4a53b527",
   "metadata": {},
   "outputs": [],
   "source": [
    "import pandas as pd\n",
    "import requests"
   ]
  },
  {
   "cell_type": "code",
   "execution_count": 2,
   "id": "6dac010d",
   "metadata": {},
   "outputs": [],
   "source": [
    "columns = (\"tweet_text\",)\n",
    "df = pd.DataFrame(columns=columns)"
   ]
  },
  {
   "cell_type": "code",
   "execution_count": 3,
   "id": "fcbd620d",
   "metadata": {},
   "outputs": [],
   "source": [
    "QUERY_BUILDERS = \"-has:links -has:mentions lang:pt\"\n",
    "QUERY_LIST = [\n",
    "    \"(samsung OR s22 OR s21 OR s20) (bom OR ótimo OR excelente)\",\n",
    "    \"(iphone OR apple) (bom OR ótimo OR excelente)\",\n",
    "    \"motorola (bom OR ótimo OR excelente)\",\n",
    "    \"xiaomi (bom OR ótimo OR excelente)\",\n",
    "    \"(samsung OR s22 OR s21 OR s20) (ruim OR péssimo OR horrível)\",\n",
    "    \"(iphone OR apple) (ruim OR péssimo OR horrível)\",\n",
    "    \"motorola (ruim OR péssimo OR horrível)\",\n",
    "    \"xiaomi (ruim OR péssimo OR horrível)\",\n",
    "    (\n",
    "        \"celular #samsung OR #motorola OR #apple OR #xiaomi OR \"\n",
    "        \"#MI OR #iOS OR #LG (bom OR ótimo OR excelente) \"\n",
    "        \"(ruim OR péssimo OR horrível)\"\n",
    "    ),\n",
    "    \"(smart tv OR smarttv OR tv) (bom OR ótimo OR excelente)\",\n",
    "    \"tv ((bom OR ótimo OR excelente) OR (ruim OR péssimo OR horrível))\",\n",
    "    \n",
    "]\n",
    "\n",
    "URL = \"https://api.twitter.com/2/tweets/search/recent\"\n"
   ]
  },
  {
   "cell_type": "code",
   "execution_count": 4,
   "id": "7f7d0bea",
   "metadata": {},
   "outputs": [],
   "source": [
    "def load_twitter_data(params: dict, headers: dict):\n",
    "    response = requests.get(\n",
    "        url=URL,\n",
    "        params=params,\n",
    "        headers=headers,\n",
    "    )\n",
    "    data = response.json()\n",
    "    \n",
    "    return data"
   ]
  },
  {
   "cell_type": "code",
   "execution_count": 5,
   "id": "002059ca",
   "metadata": {},
   "outputs": [],
   "source": [
    "idx = 0\n",
    "\n",
    "for text in QUERY_LIST:\n",
    "    headers = {\n",
    "        \"Authorization\": (\n",
    "            \"Bearer AAAAAAAAAAAAAAAAAAAAACWXjgEAAAAAfLAbTYeJhrL8GjEHfF\"\n",
    "            \"%2FyLG2mJzk%3DOtTI7cwVvAE2ijeUA7VrI7OnwFSgntbOG8MdfHKhWHVmZ3U79I\"\n",
    "        )\n",
    "    }\n",
    "    params = {\n",
    "        \"query\": f\"{text} {QUERY_BUILDERS}\",\n",
    "        \"max_results\": 100,\n",
    "    }\n",
    "    \n",
    "    search_next = True\n",
    "    \n",
    "    while search_next:\n",
    "        twitter_data = load_twitter_data(params, headers)\n",
    "        \n",
    "        for item in twitter_data[\"data\"]:\n",
    "            tweet_data = {\n",
    "                \"tweet_text\": item[\"text\"]\n",
    "            }\n",
    "\n",
    "            item = pd.DataFrame(tweet_data, index=[idx])\n",
    "            df = pd.concat([df, item])\n",
    "            \n",
    "            idx += 1\n",
    "        \n",
    "        if next_token := twitter_data.get(\"next_token\"):\n",
    "            search_next = True\n",
    "            params[\"next_token\"] = next_token\n",
    "        else:\n",
    "            search_next = False"
   ]
  },
  {
   "cell_type": "code",
   "execution_count": 7,
   "id": "ed4a0ac6",
   "metadata": {},
   "outputs": [],
   "source": [
    "df.to_csv(\"./data/twitter_reviews.csv\", index=False)"
   ]
  },
  {
   "cell_type": "code",
   "execution_count": 10,
   "id": "efffe5bc",
   "metadata": {},
   "outputs": [],
   "source": [
    "df_loaded = pd.read_csv(\"./data/twitter_reviews.csv\")"
   ]
  },
  {
   "cell_type": "code",
   "execution_count": 11,
   "id": "d91f00ae",
   "metadata": {},
   "outputs": [
    {
     "data": {
      "text/html": [
       "<div>\n",
       "<style scoped>\n",
       "    .dataframe tbody tr th:only-of-type {\n",
       "        vertical-align: middle;\n",
       "    }\n",
       "\n",
       "    .dataframe tbody tr th {\n",
       "        vertical-align: top;\n",
       "    }\n",
       "\n",
       "    .dataframe thead th {\n",
       "        text-align: right;\n",
       "    }\n",
       "</style>\n",
       "<table border=\"1\" class=\"dataframe\">\n",
       "  <thead>\n",
       "    <tr style=\"text-align: right;\">\n",
       "      <th></th>\n",
       "      <th>tweet_text</th>\n",
       "    </tr>\n",
       "  </thead>\n",
       "  <tbody>\n",
       "    <tr>\n",
       "      <th>0</th>\n",
       "      <td>Alguém que tenha o Notebook Samsung book me di...</td>\n",
       "    </tr>\n",
       "    <tr>\n",
       "      <th>1</th>\n",
       "      <td>O bom de usar Samsung é que desde ontem eu não...</td>\n",
       "    </tr>\n",
       "    <tr>\n",
       "      <th>2</th>\n",
       "      <td>atualizei meu samsung pro android 13 bom dia</td>\n",
       "    </tr>\n",
       "    <tr>\n",
       "      <th>3</th>\n",
       "      <td>Gente eu passei anos e anos sendo hater da Sam...</td>\n",
       "    </tr>\n",
       "    <tr>\n",
       "      <th>4</th>\n",
       "      <td>GENTE ATENÇÃO AQUI RAPIDINHO PFV\\n\\nalgum de v...</td>\n",
       "    </tr>\n",
       "    <tr>\n",
       "      <th>...</th>\n",
       "      <td>...</td>\n",
       "    </tr>\n",
       "    <tr>\n",
       "      <th>352</th>\n",
       "      <td>Alguns dizem que xiaomi é ruim, outros dizem q...</td>\n",
       "    </tr>\n",
       "    <tr>\n",
       "      <th>353</th>\n",
       "      <td>tô quase voltando pro meu xiaomi, a bateria do...</td>\n",
       "    </tr>\n",
       "    <tr>\n",
       "      <th>354</th>\n",
       "      <td>o face id é algo que me impressiona pra caralh...</td>\n",
       "    </tr>\n",
       "    <tr>\n",
       "      <th>355</th>\n",
       "      <td>meu xiaomi só é boa a bateria mesmo, porque o ...</td>\n",
       "    </tr>\n",
       "    <tr>\n",
       "      <th>356</th>\n",
       "      <td>100% confirmado \\n\\nmeu celular cometeu suicíd...</td>\n",
       "    </tr>\n",
       "  </tbody>\n",
       "</table>\n",
       "<p>357 rows × 1 columns</p>\n",
       "</div>"
      ],
      "text/plain": [
       "                                            tweet_text\n",
       "0    Alguém que tenha o Notebook Samsung book me di...\n",
       "1    O bom de usar Samsung é que desde ontem eu não...\n",
       "2         atualizei meu samsung pro android 13 bom dia\n",
       "3    Gente eu passei anos e anos sendo hater da Sam...\n",
       "4    GENTE ATENÇÃO AQUI RAPIDINHO PFV\\n\\nalgum de v...\n",
       "..                                                 ...\n",
       "352  Alguns dizem que xiaomi é ruim, outros dizem q...\n",
       "353  tô quase voltando pro meu xiaomi, a bateria do...\n",
       "354  o face id é algo que me impressiona pra caralh...\n",
       "355  meu xiaomi só é boa a bateria mesmo, porque o ...\n",
       "356  100% confirmado \\n\\nmeu celular cometeu suicíd...\n",
       "\n",
       "[357 rows x 1 columns]"
      ]
     },
     "execution_count": 11,
     "metadata": {},
     "output_type": "execute_result"
    }
   ],
   "source": [
    "df_loaded"
   ]
  }
 ],
 "metadata": {
  "kernelspec": {
   "display_name": "Python 3 (ipykernel)",
   "language": "python",
   "name": "python3"
  },
  "language_info": {
   "codemirror_mode": {
    "name": "ipython",
    "version": 3
   },
   "file_extension": ".py",
   "mimetype": "text/x-python",
   "name": "python",
   "nbconvert_exporter": "python",
   "pygments_lexer": "ipython3",
   "version": "3.10.5"
  }
 },
 "nbformat": 4,
 "nbformat_minor": 5
}
